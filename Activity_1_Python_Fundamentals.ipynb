{
  "nbformat": 4,
  "nbformat_minor": 0,
  "metadata": {
    "colab": {
      "name": "Activity 1 - Python Fundamentals",
      "provenance": [],
      "collapsed_sections": [],
      "include_colab_link": true
    },
    "kernelspec": {
      "name": "python3",
      "display_name": "Python 3"
    },
    "language_info": {
      "name": "python"
    }
  },
  "cells": [
    {
      "cell_type": "markdown",
      "metadata": {
        "id": "view-in-github",
        "colab_type": "text"
      },
      "source": [
        "<a href=\"https://colab.research.google.com/github/itsCiandrei/LinearAlgebra_2ndSem/blob/main/Activity_1_Python_Fundamentals.ipynb\" target=\"_parent\"><img src=\"https://colab.research.google.com/assets/colab-badge.svg\" alt=\"Open In Colab\"/></a>"
      ]
    },
    {
      "cell_type": "markdown",
      "source": [
        "# Welcome to Python Fundamentals\n",
        "In this module, we are going to establish or review our skills in Python programming. In this notebook we are going to cover:\n",
        "* Variables and Data Types \n",
        "* Operations\n",
        "* Input and Output Operations\n",
        "* Logic Control\n",
        "* Iterables\n",
        "* Functions"
      ],
      "metadata": {
        "id": "vI36JZ7dsMsG"
      }
    },
    {
      "cell_type": "markdown",
      "source": [
        "## Variable and Data Types"
      ],
      "metadata": {
        "id": "KC36ceMqtCEF"
      }
    },
    {
      "cell_type": "markdown",
      "source": [
        "######In Computer Programming, variables are a symbolic reference to store information. In order for our programs to be understood by other people and ourselves, these variables allow us to identify data with descriptive names. Their main objective is not just to store data in memory but also to label. On the other hand, the one that classifies the type of data that a variable can hold, which tells the compiler how to interpret the data, is what you call data type. Various data types are string, character, integer, float, and boolean. This activity used different variables to store memory location, such as x, a, and b, and we tried to identify which data type is stored in a particular variable."
      ],
      "metadata": {
        "id": "JklDxu8uTi0Z"
      }
    },
    {
      "cell_type": "code",
      "source": [
        "t = 2\n",
        "r,j = -1, 12"
      ],
      "metadata": {
        "id": "TcG-kBhAtR3N"
      },
      "execution_count": null,
      "outputs": []
    },
    {
      "cell_type": "code",
      "source": [
        "type(t)"
      ],
      "metadata": {
        "id": "jx2nX6GVvDOt",
        "colab": {
          "base_uri": "https://localhost:8080/"
        },
        "outputId": "6e5efa2b-f119-4a81-f04d-d0cfcf60a226"
      },
      "execution_count": null,
      "outputs": [
        {
          "output_type": "execute_result",
          "data": {
            "text/plain": [
              "int"
            ]
          },
          "metadata": {},
          "execution_count": 2
        }
      ]
    },
    {
      "cell_type": "code",
      "source": [
        "j = 3.0\n",
        "type(j)"
      ],
      "metadata": {
        "id": "rQKsN09JvbN2",
        "colab": {
          "base_uri": "https://localhost:8080/"
        },
        "outputId": "f87fa290-4b6a-4f75-ba33-9fa927d36ce2"
      },
      "execution_count": null,
      "outputs": [
        {
          "output_type": "execute_result",
          "data": {
            "text/plain": [
              "float"
            ]
          },
          "metadata": {},
          "execution_count": 3
        }
      ]
    },
    {
      "cell_type": "code",
      "source": [
        "r =float(r)\n",
        "type(r)"
      ],
      "metadata": {
        "id": "Q4PfQnWtvqM1",
        "colab": {
          "base_uri": "https://localhost:8080/"
        },
        "outputId": "74753966-6729-4622-dbe9-528358c1e8fa"
      },
      "execution_count": null,
      "outputs": [
        {
          "output_type": "execute_result",
          "data": {
            "text/plain": [
              "float"
            ]
          },
          "metadata": {},
          "execution_count": 4
        }
      ]
    },
    {
      "cell_type": "code",
      "source": [
        "w,t,f = \"1\", '2', 'cute'\n",
        "type(f)"
      ],
      "metadata": {
        "id": "VdRELiMewnjY",
        "colab": {
          "base_uri": "https://localhost:8080/"
        },
        "outputId": "4564089b-d930-42f6-b2b4-2d7fea133965"
      },
      "execution_count": null,
      "outputs": [
        {
          "output_type": "execute_result",
          "data": {
            "text/plain": [
              "str"
            ]
          },
          "metadata": {},
          "execution_count": 5
        }
      ]
    },
    {
      "cell_type": "code",
      "source": [
        "w_int = int(w)\n",
        "w_int"
      ],
      "metadata": {
        "id": "CewC05hlxNdT",
        "colab": {
          "base_uri": "https://localhost:8080/"
        },
        "outputId": "6df0d148-7051-44cc-8af2-27bc34c16b2e"
      },
      "execution_count": null,
      "outputs": [
        {
          "output_type": "execute_result",
          "data": {
            "text/plain": [
              "1"
            ]
          },
          "metadata": {},
          "execution_count": 7
        }
      ]
    },
    {
      "cell_type": "markdown",
      "source": [
        "## Operations"
      ],
      "metadata": {
        "id": "w2XYmyEcx-A0"
      }
    },
    {
      "cell_type": "markdown",
      "source": [
        "######In programming, performing mathematical operations are widely used. Operators are special character that informs the  compiler to operate or perform a specific mathematical operation. There is various type of operators that programmers use, which are the following: arithmetic, relational, and logical operators."
      ],
      "metadata": {
        "id": "QgjiYQNjXTKk"
      }
    },
    {
      "cell_type": "markdown",
      "source": [
        "### Arithmetic\n"
      ],
      "metadata": {
        "id": "N75swtacyLAl"
      }
    },
    {
      "cell_type": "markdown",
      "source": [
        "######Arithmetic operators are used to performing the four fundamental operations of Mathematics which are the following: addition, subtraction, multiplication, and division, including the modulus,'%,' which finds the remainder of two given integers. In this activity, we set a value for a specific variable to perform the five operations and the exponentiation."
      ],
      "metadata": {
        "id": "fq73YQkpa5Wi"
      }
    },
    {
      "cell_type": "code",
      "source": [
        "q,w,e,r = 12.0, -1.5, 10, -22"
      ],
      "metadata": {
        "id": "sIZy9N8pyPS9"
      },
      "execution_count": null,
      "outputs": []
    },
    {
      "cell_type": "code",
      "source": [
        "### Addition\n",
        "S = q + r\n",
        "S"
      ],
      "metadata": {
        "id": "2rI8tVXdyYl4",
        "colab": {
          "base_uri": "https://localhost:8080/"
        },
        "outputId": "481c7fea-294a-41db-f1ff-f6e5387431fb"
      },
      "execution_count": null,
      "outputs": [
        {
          "output_type": "execute_result",
          "data": {
            "text/plain": [
              "-10.0"
            ]
          },
          "metadata": {},
          "execution_count": 10
        }
      ]
    },
    {
      "cell_type": "code",
      "source": [
        "### Subtraction\n",
        "D = e - r\n",
        "D"
      ],
      "metadata": {
        "id": "rFSqKaCOzUfL",
        "colab": {
          "base_uri": "https://localhost:8080/"
        },
        "outputId": "3e8fa153-7de2-4b87-8a9b-d4016a6f80d1"
      },
      "execution_count": null,
      "outputs": [
        {
          "output_type": "execute_result",
          "data": {
            "text/plain": [
              "32"
            ]
          },
          "metadata": {},
          "execution_count": 11
        }
      ]
    },
    {
      "cell_type": "code",
      "source": [
        "### Multiplciation\n",
        "P = w*q\n",
        "P"
      ],
      "metadata": {
        "id": "ZkaV8bv1zf_z",
        "colab": {
          "base_uri": "https://localhost:8080/"
        },
        "outputId": "3523bf3a-8bf3-4262-9121-98befe3807eb"
      },
      "execution_count": null,
      "outputs": [
        {
          "output_type": "execute_result",
          "data": {
            "text/plain": [
              "-18.0"
            ]
          },
          "metadata": {},
          "execution_count": 12
        }
      ]
    },
    {
      "cell_type": "code",
      "source": [
        "### Division\n",
        "Q = e/r\n",
        "Q"
      ],
      "metadata": {
        "id": "o1R8P1yTzus2",
        "colab": {
          "base_uri": "https://localhost:8080/"
        },
        "outputId": "1a364cb3-a748-4b1b-afd3-d2b3d4bb6018"
      },
      "execution_count": null,
      "outputs": [
        {
          "output_type": "execute_result",
          "data": {
            "text/plain": [
              "-0.45454545454545453"
            ]
          },
          "metadata": {},
          "execution_count": 13
        }
      ]
    },
    {
      "cell_type": "code",
      "source": [
        "### Floor Division\n",
        "Fd = q//r\n",
        "Fd"
      ],
      "metadata": {
        "id": "O8KC2IAIzzfY",
        "colab": {
          "base_uri": "https://localhost:8080/"
        },
        "outputId": "8aa62883-c934-46be-aa9e-6aff24b4a7f8"
      },
      "execution_count": null,
      "outputs": [
        {
          "output_type": "execute_result",
          "data": {
            "text/plain": [
              "-1.0"
            ]
          },
          "metadata": {},
          "execution_count": 14
        }
      ]
    },
    {
      "cell_type": "code",
      "source": [
        "### Exponentiation\n",
        "E = q**e\n",
        "E"
      ],
      "metadata": {
        "id": "lMpuQpH9623J",
        "colab": {
          "base_uri": "https://localhost:8080/"
        },
        "outputId": "7fbe4259-7355-4e3d-85ea-9cfae8de80d3"
      },
      "execution_count": null,
      "outputs": [
        {
          "output_type": "execute_result",
          "data": {
            "text/plain": [
              "61917364224.0"
            ]
          },
          "metadata": {},
          "execution_count": 15
        }
      ]
    },
    {
      "cell_type": "code",
      "source": [
        "### Modulo\n",
        "mod = r%q\n",
        "mod"
      ],
      "metadata": {
        "id": "VnNMBIda1ESZ",
        "colab": {
          "base_uri": "https://localhost:8080/"
        },
        "outputId": "4c57a108-6085-47f0-a368-2cf1d3d734a3"
      },
      "execution_count": null,
      "outputs": [
        {
          "output_type": "execute_result",
          "data": {
            "text/plain": [
              "2.0"
            ]
          },
          "metadata": {},
          "execution_count": 16
        }
      ]
    },
    {
      "cell_type": "markdown",
      "source": [
        "### Assignment Operations"
      ],
      "metadata": {
        "id": "O-wfh5y11cSb"
      }
    },
    {
      "cell_type": "markdown",
      "source": [
        "######Assignment operators are used to assigning a value to a variable. The assignment operator's left operand is a variable, and its right is a value. The weight on the right side must be of the same data type as the variable on the left side, or else the compiler will throw an error. In this activity, we perform different assignment operators by combining the equal sign '=' with another operator, such as the symbol for addition, subtraction, multiplication, division, and exponentiation."
      ],
      "metadata": {
        "id": "TI4TiSGCbiPA"
      }
    },
    {
      "cell_type": "code",
      "source": [
        "R,J,B,F = 1, 10, 32, 39"
      ],
      "metadata": {
        "id": "KYY1d1Vw1nqn"
      },
      "execution_count": null,
      "outputs": []
    },
    {
      "cell_type": "code",
      "source": [
        "R += w\n",
        "R"
      ],
      "metadata": {
        "id": "zuC9DdJL1ze6",
        "colab": {
          "base_uri": "https://localhost:8080/"
        },
        "outputId": "a10354f5-8aca-4073-b6ff-644dbbc2b450"
      },
      "execution_count": null,
      "outputs": [
        {
          "output_type": "execute_result",
          "data": {
            "text/plain": [
              "-0.5"
            ]
          },
          "metadata": {},
          "execution_count": 18
        }
      ]
    },
    {
      "cell_type": "code",
      "source": [
        "J -= q\n",
        "J"
      ],
      "metadata": {
        "id": "-GaMhvKX2CPz",
        "colab": {
          "base_uri": "https://localhost:8080/"
        },
        "outputId": "e06b165a-07d7-4dfd-8dcd-29465a4acf67"
      },
      "execution_count": null,
      "outputs": [
        {
          "output_type": "execute_result",
          "data": {
            "text/plain": [
              "-2.0"
            ]
          },
          "metadata": {},
          "execution_count": 21
        }
      ]
    },
    {
      "cell_type": "code",
      "source": [
        "F *= 3\n",
        "F"
      ],
      "metadata": {
        "id": "1dfaNjRE7dP8",
        "colab": {
          "base_uri": "https://localhost:8080/"
        },
        "outputId": "aa266110-61dc-4efb-b3e1-cbbe9506cdc1"
      },
      "execution_count": null,
      "outputs": [
        {
          "output_type": "execute_result",
          "data": {
            "text/plain": [
              "117"
            ]
          },
          "metadata": {},
          "execution_count": 19
        }
      ]
    },
    {
      "cell_type": "code",
      "source": [
        "B **=3\n",
        "B"
      ],
      "metadata": {
        "id": "d-nSs7ZJ3Nsc",
        "colab": {
          "base_uri": "https://localhost:8080/"
        },
        "outputId": "d501ebde-dc82-42ca-f2a3-087126396547"
      },
      "execution_count": null,
      "outputs": [
        {
          "output_type": "execute_result",
          "data": {
            "text/plain": [
              "32768"
            ]
          },
          "metadata": {},
          "execution_count": 20
        }
      ]
    },
    {
      "cell_type": "markdown",
      "source": [
        "### Comparators"
      ],
      "metadata": {
        "id": "7bA3Wfed3Zan"
      }
    },
    {
      "cell_type": "markdown",
      "source": [
        "######Comparators, also known as relational operators, compare the two given values and identify the relationship between the two entities. We let an actual value as a basis for this activity, and we perform various examples for equality, non-equality, and inequality. The result of this comparison is either true or false.\n"
      ],
      "metadata": {
        "id": "z96Lv7fwiWqt"
      }
    },
    {
      "cell_type": "code",
      "source": [
        "res_1, res_2, res_3 = 0.7, 2.0, \"1\"\n",
        "true_val = 1.50"
      ],
      "metadata": {
        "id": "SjRcP7J33b7B"
      },
      "execution_count": null,
      "outputs": []
    },
    {
      "cell_type": "code",
      "source": [
        "## Equality\n",
        "res_3 == true_val"
      ],
      "metadata": {
        "id": "5MKA-11P3pBC",
        "colab": {
          "base_uri": "https://localhost:8080/"
        },
        "outputId": "25724680-20f9-4955-d5f3-018b4f093734"
      },
      "execution_count": null,
      "outputs": [
        {
          "output_type": "execute_result",
          "data": {
            "text/plain": [
              "False"
            ]
          },
          "metadata": {},
          "execution_count": 23
        }
      ]
    },
    {
      "cell_type": "code",
      "source": [
        "## Non-equality\n",
        "res_2 != true_val"
      ],
      "metadata": {
        "id": "xNWPUp_K37MR",
        "colab": {
          "base_uri": "https://localhost:8080/"
        },
        "outputId": "68bb2ad6-58bb-483d-aee2-20e5e5d08f72"
      },
      "execution_count": null,
      "outputs": [
        {
          "output_type": "execute_result",
          "data": {
            "text/plain": [
              "True"
            ]
          },
          "metadata": {},
          "execution_count": 24
        }
      ]
    },
    {
      "cell_type": "code",
      "source": [
        "## Inequality\n",
        "t1 = res_1 > res_2\n",
        "t2 = res_1 < res_2/2\n",
        "t3 = res_1 >= res_2/res_2\n",
        "t4 = res_1 <= res_2\n",
        "t3"
      ],
      "metadata": {
        "id": "8Kdx_di-4JUW",
        "colab": {
          "base_uri": "https://localhost:8080/"
        },
        "outputId": "5a834355-5de7-42fd-c8a7-c4efea364dc8"
      },
      "execution_count": null,
      "outputs": [
        {
          "output_type": "execute_result",
          "data": {
            "text/plain": [
              "False"
            ]
          },
          "metadata": {},
          "execution_count": 25
        }
      ]
    },
    {
      "cell_type": "markdown",
      "source": [
        "### Logical"
      ],
      "metadata": {
        "id": "XpLq_jNl5Tt1"
      }
    },
    {
      "cell_type": "markdown",
      "source": [
        "######A logical operator is a symbol or word used to join two or more expressions. The value of the resulting compound expression is determined only by the value of the original expressions and the operator's meaning. AND, OR, and NOT are the most common logical operators. For this part of the activity, we used the given conditions of the comparators to perform logical operators. We compare a particular condition to the actual value of 1.0 to determine whether the relationship is true or false. Also, we performed some logical math connectors like conjunction and disjunction, denoted by 'and' and 'or,' respectively."
      ],
      "metadata": {
        "id": "MVRXBgp8nwRe"
      }
    },
    {
      "cell_type": "code",
      "source": [
        "res_1 == true_val"
      ],
      "metadata": {
        "id": "Q-M8YnbY5ZvS",
        "colab": {
          "base_uri": "https://localhost:8080/"
        },
        "outputId": "7a8207d8-a8de-4373-9913-b12e94b5b4e7"
      },
      "execution_count": null,
      "outputs": [
        {
          "output_type": "execute_result",
          "data": {
            "text/plain": [
              "False"
            ]
          },
          "metadata": {},
          "execution_count": 26
        }
      ]
    },
    {
      "cell_type": "code",
      "source": [
        "res_1 is true_val"
      ],
      "metadata": {
        "id": "0d6nWI8C6UxY",
        "colab": {
          "base_uri": "https://localhost:8080/"
        },
        "outputId": "a0792a22-3773-4247-bdf1-cbd48cbabce7"
      },
      "execution_count": null,
      "outputs": [
        {
          "output_type": "execute_result",
          "data": {
            "text/plain": [
              "False"
            ]
          },
          "metadata": {},
          "execution_count": 27
        }
      ]
    },
    {
      "cell_type": "code",
      "source": [
        "res_1 is not true_val"
      ],
      "metadata": {
        "id": "b-Hkxetd63e8",
        "colab": {
          "base_uri": "https://localhost:8080/"
        },
        "outputId": "5889ba68-e4c7-48c0-da3f-edbfe43abdf6"
      },
      "execution_count": null,
      "outputs": [
        {
          "output_type": "execute_result",
          "data": {
            "text/plain": [
              "True"
            ]
          },
          "metadata": {},
          "execution_count": 28
        }
      ]
    },
    {
      "cell_type": "code",
      "source": [
        "s, t = True, False\n",
        "conj = t and s\n",
        "conj"
      ],
      "metadata": {
        "id": "frg7rUVS7EM1",
        "colab": {
          "base_uri": "https://localhost:8080/"
        },
        "outputId": "4f24738c-05a2-4370-88e0-7436817db2ad"
      },
      "execution_count": null,
      "outputs": [
        {
          "output_type": "execute_result",
          "data": {
            "text/plain": [
              "False"
            ]
          },
          "metadata": {},
          "execution_count": 29
        }
      ]
    },
    {
      "cell_type": "code",
      "source": [
        "s, t = True, False\n",
        "disj = s or t\n",
        "disj"
      ],
      "metadata": {
        "id": "wIPeXrji7PBi",
        "colab": {
          "base_uri": "https://localhost:8080/"
        },
        "outputId": "e5f77b1a-c817-4651-9799-e52be2d19a59"
      },
      "execution_count": null,
      "outputs": [
        {
          "output_type": "execute_result",
          "data": {
            "text/plain": [
              "True"
            ]
          },
          "metadata": {},
          "execution_count": 30
        }
      ]
    },
    {
      "cell_type": "code",
      "source": [
        "s, t = True, False\n",
        "e = not(s and t)\n",
        "e"
      ],
      "metadata": {
        "id": "53O2lnUZ7XGl",
        "colab": {
          "base_uri": "https://localhost:8080/"
        },
        "outputId": "11889a23-e0bb-4fe6-a63e-ea66ee2fd98d"
      },
      "execution_count": null,
      "outputs": [
        {
          "output_type": "execute_result",
          "data": {
            "text/plain": [
              "True"
            ]
          },
          "metadata": {},
          "execution_count": 31
        }
      ]
    },
    {
      "cell_type": "markdown",
      "source": [
        "### I/O - Input & Output\n"
      ],
      "metadata": {
        "id": "PQ1q3Tvf8ifU"
      }
    },
    {
      "cell_type": "markdown",
      "source": [
        "###### In programming, Input and Output is the communication that happens between the user and the computer program. The Input is where the user communicates by writing codes. Output on the other hand is the feedback of the computer from the program written by the user. It evaluates and shows the result of the program."
      ],
      "metadata": {
        "id": "caa_xmGb8mrj"
      }
    },
    {
      "cell_type": "code",
      "source": [
        "print(\"Hellooo pooo\")"
      ],
      "metadata": {
        "id": "FYA_b72m8J_1",
        "colab": {
          "base_uri": "https://localhost:8080/"
        },
        "outputId": "1af2dc2a-69b7-4ac0-f420-72d88d785e59"
      },
      "execution_count": null,
      "outputs": [
        {
          "output_type": "stream",
          "name": "stdout",
          "text": [
            "Hellooo pooo\n"
          ]
        }
      ]
    },
    {
      "cell_type": "code",
      "source": [
        "cnt = 1"
      ],
      "metadata": {
        "id": "u0Hdr2SO8Sy6"
      },
      "execution_count": null,
      "outputs": []
    },
    {
      "cell_type": "code",
      "source": [
        "string = \"Hellooo pooo\"\n",
        "print(string, \", Current run count is:\", cnt)\n",
        "cnt =+2"
      ],
      "metadata": {
        "id": "yzkgYZgB8YvF",
        "colab": {
          "base_uri": "https://localhost:8080/"
        },
        "outputId": "5f8070ad-62b4-4efd-e7c2-b68ba06592b0"
      },
      "execution_count": null,
      "outputs": [
        {
          "output_type": "stream",
          "name": "stdout",
          "text": [
            "Hellooo pooo , Current run count is: 1\n"
          ]
        }
      ]
    },
    {
      "cell_type": "code",
      "source": [
        "print(f\"{string}, Current count is: {cnt}\")"
      ],
      "metadata": {
        "id": "qnanrXre9YeU",
        "colab": {
          "base_uri": "https://localhost:8080/"
        },
        "outputId": "e9de56fa-ec52-4df9-e620-c8ccd240e6a4"
      },
      "execution_count": null,
      "outputs": [
        {
          "output_type": "stream",
          "name": "stdout",
          "text": [
            "Hellooo pooo, Current count is: 2\n"
          ]
        }
      ]
    },
    {
      "cell_type": "code",
      "source": [
        "sem_grade=98\n",
        "name = \"RJ\"\n",
        "print(\"Hello {}, your semestral grade is {}\".format(name,sem_grade))"
      ],
      "metadata": {
        "id": "FGyVHFvK9tFJ",
        "colab": {
          "base_uri": "https://localhost:8080/"
        },
        "outputId": "03926232-9269-4fc7-8cc0-774ed8a75d60"
      },
      "execution_count": null,
      "outputs": [
        {
          "output_type": "stream",
          "name": "stdout",
          "text": [
            "Hello RJ, your semestral grade is 98\n"
          ]
        }
      ]
    },
    {
      "cell_type": "code",
      "source": [
        "w_pg, w_mg, w_fg = 0.3, 0.3, 0.4\n",
        "print(\"The weights of your semestral grades are: \\\n",
        "\\n\\t{: .2%} for Prelims\\\n",
        "\\n\\t{: .2%} for Midterms, and\\\n",
        "\\n\\t{: .2%} for Finals,\".format(w_pg, w_mg, w_fg))"
      ],
      "metadata": {
        "id": "mUwothUluOyd",
        "colab": {
          "base_uri": "https://localhost:8080/"
        },
        "outputId": "4c90bd6a-0551-4b7b-ff96-88aa275da874"
      },
      "execution_count": null,
      "outputs": [
        {
          "output_type": "stream",
          "name": "stdout",
          "text": [
            "The weights of your semestral grades are: \n",
            "\t 30.00% for Prelims\n",
            "\t 30.00% for Midterms, and\n",
            "\t 40.00% for Finals,\n"
          ]
        }
      ]
    },
    {
      "cell_type": "code",
      "source": [
        "x = input(\"enter a number: \")\n",
        "x"
      ],
      "metadata": {
        "id": "AKgwQh2muhRG",
        "colab": {
          "base_uri": "https://localhost:8080/",
          "height": 53
        },
        "outputId": "04accf04-1157-41e2-df95-f9f08d8b965e"
      },
      "execution_count": null,
      "outputs": [
        {
          "name": "stdout",
          "output_type": "stream",
          "text": [
            "enter a number: 98\n"
          ]
        },
        {
          "output_type": "execute_result",
          "data": {
            "application/vnd.google.colaboratory.intrinsic+json": {
              "type": "string"
            },
            "text/plain": [
              "'98'"
            ]
          },
          "metadata": {},
          "execution_count": 38
        }
      ]
    },
    {
      "cell_type": "code",
      "source": [
        "name = input(\"Name: \")\n",
        "pg = input(\"Enter prelims grade: \")\n",
        "mg = input(\"Enter midterm grad: \")\n",
        "fg = input(\"Enter finals grade: \")\n",
        "sem_grade = None\n",
        "print(\"Hello {}, your semestral grade is: {}\".format(name, sem_grade))"
      ],
      "metadata": {
        "id": "GsbIF38Wu-zk",
        "colab": {
          "base_uri": "https://localhost:8080/"
        },
        "outputId": "1720abff-3875-4f7c-d54c-61e0aadc67c2"
      },
      "execution_count": null,
      "outputs": [
        {
          "output_type": "stream",
          "name": "stdout",
          "text": [
            "Name: RJ\n",
            "Enter prelims grade: 96\n",
            "Enter midterm grad: 96\n",
            "Enter finals grade: 96\n",
            "Hello RJ, your semestral grade is: None\n"
          ]
        }
      ]
    },
    {
      "cell_type": "markdown",
      "source": [
        "##Looping Statements"
      ],
      "metadata": {
        "id": "UexjSa9dwL1k"
      }
    },
    {
      "cell_type": "markdown",
      "source": [
        "######In programming, the loop statements repeatedly execute the series until the specified condition is satisfied. A loop is composed of two components: the loop's body and a control statement. The control statement is a collection of conditions that tells the loop's body to continue running until the provided condition turns false. The loop aims to execute the same code repeatedly."
      ],
      "metadata": {
        "id": "tN-VJofEpRwk"
      }
    },
    {
      "cell_type": "markdown",
      "source": [
        "###While"
      ],
      "metadata": {
        "id": "zLwd31TqwQyy"
      }
    },
    {
      "cell_type": "markdown",
      "source": [
        "######A 'While Loop' is used to repeatedly execute a specified piece of code until a condition is fulfilled. For instance, we want to show the numbers between 0 and 10; the initialization sets to zero, and as long as the value is less than ten, the loop will be executed. It uses an increment operator to increase the value by one."
      ],
      "metadata": {
        "id": "oTAeb0FU5qvh"
      }
    },
    {
      "cell_type": "code",
      "source": [
        "## while loop\n",
        "a, b = 0, 10\n",
        "while(a<=b):\n",
        "  print(f\"{a}\\t|\\t{a}\")\n",
        "  a+=1\n",
        "  "
      ],
      "metadata": {
        "id": "L-Um6FoVxDzk",
        "colab": {
          "base_uri": "https://localhost:8080/"
        },
        "outputId": "117b12a5-d891-40ad-e4c5-22ff68c79509"
      },
      "execution_count": null,
      "outputs": [
        {
          "output_type": "stream",
          "name": "stdout",
          "text": [
            "0\t|\t0\n",
            "1\t|\t1\n",
            "2\t|\t2\n",
            "3\t|\t3\n",
            "4\t|\t4\n",
            "5\t|\t5\n",
            "6\t|\t6\n",
            "7\t|\t7\n",
            "8\t|\t8\n",
            "9\t|\t9\n",
            "10\t|\t10\n"
          ]
        }
      ]
    },
    {
      "cell_type": "code",
      "source": [
        ""
      ],
      "metadata": {
        "id": "45AFaQDtBTSd"
      },
      "execution_count": null,
      "outputs": []
    },
    {
      "cell_type": "markdown",
      "source": [
        "###For"
      ],
      "metadata": {
        "id": "DGEnsLYxxajp"
      }
    },
    {
      "cell_type": "markdown",
      "source": [
        "######A 'For Loop' statement is a control flow statement used to repeatedly express iteration of executing code. For example, this activity sets the starting value to zero with the range of eleven, and the variable will increment 1. However, the loop will stop when the integer value is equivalent to ten or when the total number of variables is eleven. "
      ],
      "metadata": {
        "id": "xmHi-JmeBR1l"
      }
    },
    {
      "cell_type": "code",
      "source": [
        "# for(int i=0; i<10;; i++){\n",
        "# printf(i)    \n",
        "# }\n",
        "\n",
        "i=0\n",
        "for i in range(11):\n",
        " print(i)"
      ],
      "metadata": {
        "id": "twYsX2KOxc_Q",
        "colab": {
          "base_uri": "https://localhost:8080/"
        },
        "outputId": "a4f8d506-4c26-43b6-9268-b45b971773e3"
      },
      "execution_count": null,
      "outputs": [
        {
          "output_type": "stream",
          "name": "stdout",
          "text": [
            "0\n",
            "1\n",
            "2\n",
            "3\n",
            "4\n",
            "5\n",
            "6\n",
            "7\n",
            "8\n",
            "9\n",
            "10\n"
          ]
        }
      ]
    },
    {
      "cell_type": "code",
      "source": [
        "playlist = [\"Tadhana\", \"Dungaw\", \"Paraluman\"]\n",
        "print('Now Playing:\\n')\n",
        "for song in playlist:\n",
        "  print(song)"
      ],
      "metadata": {
        "id": "UmOGvg1pyPPN",
        "colab": {
          "base_uri": "https://localhost:8080/"
        },
        "outputId": "74a5b63f-9c8b-4e83-884d-8991230f2424"
      },
      "execution_count": null,
      "outputs": [
        {
          "output_type": "stream",
          "name": "stdout",
          "text": [
            "Now Playing:\n",
            "\n",
            "Tadhana\n",
            "Dungaw\n",
            "Paraluman\n"
          ]
        }
      ]
    },
    {
      "cell_type": "markdown",
      "source": [
        "## FLow Control"
      ],
      "metadata": {
        "id": "6osrAX4LyxBl"
      }
    },
    {
      "cell_type": "markdown",
      "source": [
        "######Control flow, or flow of control, is the sequence in which function calls, instructions, and statements are performed or assessed during the execution of a program. One of the common examples of a control flow statement is the else/if statement, which is shown below."
      ],
      "metadata": {
        "id": "oiuGj8KdDMds"
      }
    },
    {
      "cell_type": "markdown",
      "source": [
        "## Condition Statements"
      ],
      "metadata": {
        "id": "fLZhqWb1y1A3"
      }
    },
    {
      "cell_type": "markdown",
      "source": [
        "######Conditional statements are used in various programming languages to direct the computer on what to do when certain circumstances are met. These judgments are made if and only if the programmer's pre-defined criteria are true or false. We set different values for two variables and three conditions, in this circumstance, including the default statement of all the conditional expressions. The printed output for this activity is 'Aww' since the given values didn't fall on the \"if\" and \"else if\" statements."
      ],
      "metadata": {
        "id": "HIlnJqkdIIz0"
      }
    },
    {
      "cell_type": "code",
      "source": [
        "numeral1, numeral2 = 12, 13\n",
        "if(numeral1 == numeral2):\n",
        "  print(\"Henlo\")\n",
        "elif(numeral1>numeral2):\n",
        "  print(\"Kurek\")\n",
        "else:\n",
        "    print(\"Chariz\")"
      ],
      "metadata": {
        "colab": {
          "base_uri": "https://localhost:8080/"
        },
        "id": "EuooAx7ly46m",
        "outputId": "2b0e48ec-4ed1-4f5d-d455-ebf29aa1c520"
      },
      "execution_count": null,
      "outputs": [
        {
          "output_type": "stream",
          "name": "stdout",
          "text": [
            "Chariz\n"
          ]
        }
      ]
    },
    {
      "cell_type": "markdown",
      "source": [
        "## Functions"
      ],
      "metadata": {
        "id": "1U2OnKCs1hEA"
      }
    },
    {
      "cell_type": "markdown",
      "source": [
        "###### In programming, functions refers to a code that carries out specific actions when used. For example, the code \"print\" is used to show the text you want to be shown in your program."
      ],
      "metadata": {
        "id": "z2T4VRJHXwo1"
      }
    },
    {
      "cell_type": "code",
      "source": [
        "# void DeleteUser(int userid){\n",
        "#   delete(userid);\n",
        "# }\n",
        "\n",
        "def delete_user (userid):\n",
        "  print(\"Successfully deleted user: {}\".format(userid))\n",
        "\n",
        "def delete_all_users ():\n",
        "    print(\"Successfully deleted all users\")"
      ],
      "metadata": {
        "id": "rS40uD431k2w"
      },
      "execution_count": null,
      "outputs": []
    },
    {
      "cell_type": "code",
      "source": [
        "userid = \"RJ\"\n",
        "delete_user(\"RJ\")\n",
        "delete_all_users()"
      ],
      "metadata": {
        "id": "FMAfJd5n2NEd",
        "colab": {
          "base_uri": "https://localhost:8080/"
        },
        "outputId": "a6196296-c23e-48bf-bdb9-1a32ce980bab"
      },
      "execution_count": null,
      "outputs": [
        {
          "output_type": "stream",
          "name": "stdout",
          "text": [
            "Successfully deleted user: RJ\n",
            "Successfully deleted all users\n"
          ]
        }
      ]
    },
    {
      "cell_type": "code",
      "source": [
        "def add(addend1, addend2):\n",
        "  return addend1 + addend2\n",
        "\n",
        "def power_of_base2(exponent):\n",
        "  return 3**exponent"
      ],
      "metadata": {
        "id": "9jAmbXtJ3qUZ"
      },
      "execution_count": null,
      "outputs": []
    },
    {
      "cell_type": "code",
      "source": [
        "#addend1, addend2 = 34, 20\n",
        "#add(addend1, addend2)\n",
        "\n",
        "exponent = 10\n",
        "power_of_base2(exponent)"
      ],
      "metadata": {
        "id": "bLzdq_0n34ke",
        "colab": {
          "base_uri": "https://localhost:8080/"
        },
        "outputId": "239445bc-8eb9-472e-aefb-61c66526e3d1"
      },
      "execution_count": null,
      "outputs": [
        {
          "output_type": "execute_result",
          "data": {
            "text/plain": [
              "59049"
            ]
          },
          "metadata": {},
          "execution_count": 47
        }
      ]
    },
    {
      "cell_type": "markdown",
      "source": [
        "## Grade Calculator"
      ],
      "metadata": {
        "id": "-5VewDsT3lnw"
      }
    },
    {
      "cell_type": "code",
      "source": [
        "p , m , f = 0.3,0.3,0.4\n",
        "b = 70\n",
        "name = input(\"Enter Name: \")\n",
        "course = input(\"Enter Course: \")\n",
        "prelim = input(\"Enter Prelim Grade: \")\n",
        "prelim = float (prelim)\n",
        "midterm = input(\"Enter Midterm Grade: \")\n",
        "midterm = float (midterm)\n",
        "finalterm =  input(\"Enter Finalterm Grade: \")\n",
        "finalterm = float (finalterm)\n",
        "Semestral_Grade = (prelim*p)+(midterm*m)+(finalterm*f)\n",
        "print(\"Hi {} from {}. Your Semestral Grade is {:.2f}\".format(name, course, Semestral_Grade)) \n",
        "if(Semestral_Grade==b):\n",
        "    print(\"\\U0001F606\")\n",
        "elif(Semestral_Grade>b):\n",
        "    print(\"\\U0001F600\")\n",
        "else: \n",
        "    print(\"\\U0001F62D\")\n",
        "\n",
        "\n",
        "\n"
      ],
      "metadata": {
        "colab": {
          "base_uri": "https://localhost:8080/"
        },
        "id": "bjiEAauggou5",
        "outputId": "7d73df43-0dab-4d41-ed2c-731f4701509b"
      },
      "execution_count": null,
      "outputs": [
        {
          "output_type": "stream",
          "name": "stdout",
          "text": [
            "Enter Name: Paulo Benitez\n",
            "Enter Course: B.S Chemical Engineering\n",
            "Enter Prelim Grade: 95.35\n",
            "Enter Midterm Grade: 93.67\n",
            "Enter Finalterm Grade: 98.54\n",
            "Hi Paulo Benitez from B.S Chemical Engineering. Your Semestral Grade is 96.12\n",
            "😀\n"
          ]
        }
      ]
    }
  ]
}