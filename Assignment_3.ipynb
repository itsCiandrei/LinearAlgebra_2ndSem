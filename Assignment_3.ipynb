{
  "nbformat": 4,
  "nbformat_minor": 0,
  "metadata": {
    "colab": {
      "name": "Assignment 3.ipynb",
      "provenance": [],
      "collapsed_sections": [],
      "authorship_tag": "ABX9TyMrtM5z/qYcWl8N/DWpoEtS",
      "include_colab_link": true
    },
    "kernelspec": {
      "name": "python3",
      "display_name": "Python 3"
    },
    "language_info": {
      "name": "python"
    }
  },
  "cells": [
    {
      "cell_type": "markdown",
      "metadata": {
        "id": "view-in-github",
        "colab_type": "text"
      },
      "source": [
        "<a href=\"https://colab.research.google.com/github/itsCiandrei/LinearAlgebra_2ndSem/blob/main/Assignment_3.ipynb\" target=\"_parent\"><img src=\"https://colab.research.google.com/assets/colab-badge.svg\" alt=\"Open In Colab\"/></a>"
      ]
    },
    {
      "cell_type": "markdown",
      "source": [
        "#Linear Algebra for ChE\n",
        "\n",
        "##Laboratory 4: Matrices"
      ],
      "metadata": {
        "id": "vX6jqrV3xnL-"
      }
    },
    {
      "cell_type": "markdown",
      "source": [
        "###Objectives"
      ],
      "metadata": {
        "id": "8TU9t1imxzvG"
      }
    },
    {
      "cell_type": "markdown",
      "source": [
        "##Discussion"
      ],
      "metadata": {
        "id": "1nNMr69ryE0h"
      }
    },
    {
      "cell_type": "code",
      "source": [
        "import numpy as np\n",
        "import matplotlib.pyplot as plt\n",
        "import scipy.linalg as la\n",
        "%matplotlib inline "
      ],
      "metadata": {
        "id": "HgtzaLcvyDyh"
      },
      "execution_count": 2,
      "outputs": []
    },
    {
      "cell_type": "markdown",
      "source": [
        "###Matrices"
      ],
      "metadata": {
        "id": "eyFJUPH1yws0"
      }
    },
    {
      "cell_type": "markdown",
      "source": [
        "######In mathematics, a matrix is a rectangular arrangement of numbers, symbols, or expressions into rows and columns. It is commonly used in solving a series of linear equations with different numbers of variables. In addition, matrices are used to provide quick estimations of more complex equations. We used the text typesetting feature of google collab for formatting the output. Here, the series of equations were presented in LaTeX form. The student follows the given program format for A and B to achieve C's product. However, for C, the students introduced another independent variable, making four independent variables with different coefficients. Moreover, the equations inside A, B, and C were now presented into their matrix form, which was arranged based on their variable but represented only by their numerical coefficient. A is a system with 2 equations and 2 parameters. On the other hand, systme B has 3 equations with 3 parameters. And lastly, system C consists of 3 equations with 4 parameters."
      ],
      "metadata": {
        "id": "gNYyMtSYz59E"
      }
    },
    {
      "cell_type": "markdown",
      "source": [
        "$$\n",
        "A = \\left\\{\n",
        "    \\begin{array}\\\n",
        "        x + y \\\\ \n",
        "        4x - 10y\n",
        "    \\end{array}\n",
        "\\right. \\\\\n",
        "B = \\left\\{\n",
        "    \\begin{array}\\\n",
        "        x+y+z \\\\ \n",
        "        3x -2y -z \\\\\n",
        "        -x + 4y +2z\n",
        "    \\end{array}\n",
        "\\right.\\\\ \n",
        "C = \\left\\{\n",
        "  \\begin{array}\\\n",
        "  2w-3x+y+5z\\\\\n",
        "  w+2x-2y-4z\\\\\n",
        "  3w+x+y-3z\\\\\n",
        "  \\end{array}\\\n",
        "\\right. \\\\\n",
        "$$\n"
      ],
      "metadata": {
        "id": "qGvQDcjFy1N_"
      }
    },
    {
      "cell_type": "markdown",
      "source": [
        "$$\n",
        "A=\\begin{bmatrix} 1 & 1 \\\\ 4 & {-10}\\end{bmatrix} \\\\\n",
        "B=\\begin{bmatrix} 1 & 1 & 1 \\\\ 3 & -2 & -1 \\\\ -1 & 4 & 2\\end{bmatrix}\\\\\n",
        "C =\\begin{bmatrix} 2 & -3 & 1 & 5 \\\\ 1 & 2 & -2 & -4 \\\\ 3 & 1 & 1 & -3\\end{bmatrix}\n",
        "$$\n"
      ],
      "metadata": {
        "id": "OoJLEIbI1iys"
      }
    },
    {
      "cell_type": "markdown",
      "source": [
        "##Declaring Matrices"
      ],
      "metadata": {
        "id": "_2zWdkLa3rN-"
      }
    },
    {
      "cell_type": "markdown",
      "source": [
        "#####In the previous part of this activity, students could change the LaTeX form of numerous linear equations into the matrix. Matrix A consists of different numbers or entities called the elements of a matrix, and it was arranged based on rows and columns. The subscript i signifies the row, while subscript j signifies the column of the matrices. The students were able to create different types of matrices with different dimensions and identify the shape or also known as the dimension of the matrices, and even its rank. \n",
        " "
      ],
      "metadata": {
        "id": "7AqnbAW_VfiZ"
      }
    },
    {
      "cell_type": "markdown",
      "source": [
        "$$A=\\begin{bmatrix}\n",
        "a_{(0,0)}&a_{(0,1)}&\\dots&a_{(0,j-1)}\\\\\n",
        "a_{(1,0)}&a_{(1,1)}&\\dots&a_{(1,j-1)}\\\\\n",
        "\\vdots&\\vdots&\\ddots&\\vdots&\\\\\n",
        "a_{(i-1,0)}&a_{(i-1,1)}&\\dots&a_{(i-1,j-1)}\n",
        "\\end{bmatrix}\n",
        "$$\n"
      ],
      "metadata": {
        "id": "i0GqcugH3uo_"
      }
    },
    {
      "cell_type": "code",
      "source": [
        "def describe_mat(matrix):\n",
        "  print(f'Matrix:\\n{matrix}\\n\\nShape:\\t{matrix.shape}\\nRank:\\t{matrix.ndim}\\n')"
      ],
      "metadata": {
        "id": "xhPe6RJM32Yl"
      },
      "execution_count": 3,
      "outputs": []
    },
    {
      "cell_type": "code",
      "source": [
        "## Declaring a 2 x 2 matrix\n",
        "R = np.array([\n",
        "    [2, 1],\n",
        "    [2, 3]\n",
        "])\n",
        "describe_mat(R)\n",
        "R.shape"
      ],
      "metadata": {
        "id": "_Hi_1hMt4PRd",
        "colab": {
          "base_uri": "https://localhost:8080/"
        },
        "outputId": "bfe73986-fa2c-49c5-bf86-d300c4d303e4"
      },
      "execution_count": 4,
      "outputs": [
        {
          "output_type": "stream",
          "name": "stdout",
          "text": [
            "Matrix:\n",
            "[[2 1]\n",
            " [2 3]]\n",
            "\n",
            "Shape:\t(2, 2)\n",
            "Rank:\t2\n",
            "\n"
          ]
        },
        {
          "output_type": "execute_result",
          "data": {
            "text/plain": [
              "(2, 2)"
            ]
          },
          "metadata": {},
          "execution_count": 4
        }
      ]
    },
    {
      "cell_type": "code",
      "source": [
        "J = np.array([\n",
        "    [2,1,3],\n",
        "    [4,3,1]\n",
        "])\n",
        "describe_mat(J)\n",
        "J.shape"
      ],
      "metadata": {
        "id": "cMq6iRGl6JNm",
        "colab": {
          "base_uri": "https://localhost:8080/"
        },
        "outputId": "436e5421-7177-46cf-c011-aaf188845be8"
      },
      "execution_count": 5,
      "outputs": [
        {
          "output_type": "stream",
          "name": "stdout",
          "text": [
            "Matrix:\n",
            "[[2 1 3]\n",
            " [4 3 1]]\n",
            "\n",
            "Shape:\t(2, 3)\n",
            "Rank:\t2\n",
            "\n"
          ]
        },
        {
          "output_type": "execute_result",
          "data": {
            "text/plain": [
              "(2, 3)"
            ]
          },
          "metadata": {},
          "execution_count": 5
        }
      ]
    },
    {
      "cell_type": "code",
      "source": [
        "M = np.array([3,4,5,6,7])\n",
        "describe_mat(M)"
      ],
      "metadata": {
        "id": "2u-0wSt96l7L",
        "colab": {
          "base_uri": "https://localhost:8080/"
        },
        "outputId": "fb315162-a9e5-4636-c564-3920dbde123e"
      },
      "execution_count": 7,
      "outputs": [
        {
          "output_type": "stream",
          "name": "stdout",
          "text": [
            "Matrix:\n",
            "[3 4 5 6 7]\n",
            "\n",
            "Shape:\t(5,)\n",
            "Rank:\t1\n",
            "\n"
          ]
        }
      ]
    },
    {
      "cell_type": "markdown",
      "source": [
        "###According to Matrices"
      ],
      "metadata": {
        "id": "Lu_vrNm87UIz"
      }
    },
    {
      "cell_type": "markdown",
      "source": [
        "#####There are various ways how to classify the type of matrices. In this laboratory activity, the students classify it in two ways, the first is in terms of shape or dimension, and the other is in terms of its elements."
      ],
      "metadata": {
        "id": "qcnr6nYvYqoR"
      }
    },
    {
      "cell_type": "markdown",
      "source": [
        "####According to Shape"
      ],
      "metadata": {
        "id": "_C4WS0iaiMG1"
      }
    },
    {
      "cell_type": "markdown",
      "source": [
        "#####The matrices are classified in terms of their dimensions. The types of matrices according to its dimension are the following: Declaring row matrix, declaring column matrix, and square matrix."
      ],
      "metadata": {
        "id": "IzEHkPVFiSgq"
      }
    },
    {
      "cell_type": "markdown",
      "source": [
        "####Declaring Row Matrix"
      ],
      "metadata": {
        "id": "tsGsPXs48wzM"
      }
    },
    {
      "cell_type": "markdown",
      "source": [
        "#####A row matrix is also known as a single row matrix. By referring to its name, it's evident that this matrix type only consists of one row, but the number of columns could be greater than one. Thus, its dimension could be written as '1 x n' wherein n is the number of columns. The students were able to create a row matrix having more than 1 column. In line with that, they could differentiate the difference between row and non-row matrices."
      ],
      "metadata": {
        "id": "Y-rUMOlDaCFi"
      }
    },
    {
      "cell_type": "code",
      "source": [
        "row_mat_1D = np.array([\n",
        "                       6,6,6\n",
        "])\n",
        "row_mat_2D = np.array([\n",
        "                    [1,-2,7,21],[2,3,1,4]   \n",
        "])\n",
        "describe_mat(row_mat_1D)\n",
        "describe_mat(row_mat_2D)"
      ],
      "metadata": {
        "id": "UGPjim0Z7aES",
        "colab": {
          "base_uri": "https://localhost:8080/"
        },
        "outputId": "99a853b8-ed60-4f28-bc97-d6c0c998631d"
      },
      "execution_count": 13,
      "outputs": [
        {
          "output_type": "stream",
          "name": "stdout",
          "text": [
            "Matrix:\n",
            "[6 6 6]\n",
            "\n",
            "Shape:\t(3,)\n",
            "Rank:\t1\n",
            "\n",
            "Matrix:\n",
            "[[ 1 -2  7 21]\n",
            " [ 2  3  1  4]]\n",
            "\n",
            "Shape:\t(2, 4)\n",
            "Rank:\t2\n",
            "\n"
          ]
        }
      ]
    },
    {
      "cell_type": "markdown",
      "source": [
        "####Declaring Column Matrix"
      ],
      "metadata": {
        "id": "1IzJMQNkZsFw"
      }
    },
    {
      "cell_type": "markdown",
      "source": [
        "#####If row martix is a type of matrix which consist of only single row, column matrix on the other hand is a matrix consists of only one column with more than one row. Its dimension is represented as 'n x 1' where n is the number of rows. The student were able to create a 3x1 column matrix."
      ],
      "metadata": {
        "id": "dB91ZVnydJj6"
      }
    },
    {
      "cell_type": "code",
      "source": [
        "col_mat = np.array([\n",
        "        [2],[3],[7]\n",
        "])\n",
        "describe_mat(col_mat)"
      ],
      "metadata": {
        "id": "3ohojwtQ9bTZ",
        "colab": {
          "base_uri": "https://localhost:8080/"
        },
        "outputId": "353624ae-7772-4378-945e-e5d3017fb49e"
      },
      "execution_count": 10,
      "outputs": [
        {
          "output_type": "stream",
          "name": "stdout",
          "text": [
            "Matrix:\n",
            "[[2]\n",
            " [3]\n",
            " [7]]\n",
            "\n",
            "Shape:\t(3, 1)\n",
            "Rank:\t2\n",
            "\n"
          ]
        }
      ]
    },
    {
      "cell_type": "markdown",
      "source": [
        "###Square Matrix"
      ],
      "metadata": {
        "id": "KPmJ_LTt7ai7"
      }
    },
    {
      "cell_type": "markdown",
      "source": [
        "#####The last type of matrix, according to its shape, is the square matrix. A square matrix is also known as a 'n x n' matrix having the same columns and rows. One of its applications is to solve quadratic equations having two different variables. For this part, the student formulated a program about square and non-square matrix, and it identifies if the matrix is square or non-square by printing the text \"True\" or \"False.\""
      ],
      "metadata": {
        "id": "gh1qJWunfZPr"
      }
    },
    {
      "cell_type": "code",
      "source": [
        "def describe_mat(matrix):\n",
        "  is_square = True if matrix.shape[0] == matrix.shape[1] else False\n",
        "  print(f'Matrix:\\n {matrix} \\n\\nShape:\\t{matrix.shape}\\nRank:\\t{matrix.ndim}\\nIs.Square:{is_square}\\n')"
      ],
      "metadata": {
        "id": "F0PA7SJ096nZ"
      },
      "execution_count": null,
      "outputs": []
    },
    {
      "cell_type": "code",
      "source": [
        "square_mat = np.array([\n",
        "                       [1,4,3,2],\n",
        "                       [2,4,6,1],\n",
        "                       [7,8,9,-1],\n",
        "                       [3,1,-4,23]\n",
        "])\n",
        "\n",
        "non_square_mat = np.array([\n",
        "                           [-2,2,0],\n",
        "                           [1,9,7]\n",
        "])\n",
        "describe_mat(square_mat)\n",
        "describe_mat(non_square_mat)"
      ],
      "metadata": {
        "id": "JFyGzHWx-8LY",
        "colab": {
          "base_uri": "https://localhost:8080/"
        },
        "outputId": "3f83a7af-f73b-4f2d-d053-72fb79f1f0b4"
      },
      "execution_count": 12,
      "outputs": [
        {
          "output_type": "stream",
          "name": "stdout",
          "text": [
            "Matrix:\n",
            "[[ 1  4  3  2]\n",
            " [ 2  4  6  1]\n",
            " [ 7  8  9 -1]\n",
            " [ 3  1 -4 23]]\n",
            "\n",
            "Shape:\t(4, 4)\n",
            "Rank:\t2\n",
            "\n",
            "Matrix:\n",
            "[[-2  2  0]\n",
            " [ 1  9  7]]\n",
            "\n",
            "Shape:\t(2, 3)\n",
            "Rank:\t2\n",
            "\n"
          ]
        }
      ]
    },
    {
      "cell_type": "markdown",
      "source": [
        "###According to element values"
      ],
      "metadata": {
        "id": "QGKYssBmBDYk"
      }
    },
    {
      "cell_type": "markdown",
      "source": [
        "#####The matrices are classified in terms of their elements. The types of matrices according to its identities are the following: Null matrix, zero matrix, ones matrix, identity matrix, upper and lower triangular matrix."
      ],
      "metadata": {
        "id": "jnSUBCRuivql"
      }
    },
    {
      "cell_type": "markdown",
      "source": [
        "####Null Matrix"
      ],
      "metadata": {
        "id": "4XhdrDkbBHbg"
      }
    },
    {
      "cell_type": "markdown",
      "source": [
        "#####A null matrix is the type of matrix wherein it has no elements at all. It contains a missing value and has zero numbers of rows and columns. The students were able to produce an output of both null and not-null matrices. In addition to that, the not-null matrix is not an example of a square matrix."
      ],
      "metadata": {
        "id": "aWcvj9lnno-s"
      }
    },
    {
      "cell_type": "code",
      "source": [
        "def describe_mat(matrix):\n",
        "  if matrix.size > 0:\n",
        "    is_square = True if matrix.shape[0] == matrix.shape[1] else False\n",
        "    print(f'Matrix:\\n {matrix} \\n\\nShape:\\t{matrix.shape}\\nRank:\\t{matrix.ndim}\\nIs.Square:{is_square}\\n')\n",
        "  else:\n",
        "    print('Matrix is NULL')"
      ],
      "metadata": {
        "id": "PdY4U-9NBPwW"
      },
      "execution_count": null,
      "outputs": []
    },
    {
      "cell_type": "code",
      "source": [
        "null_mat=np.array([])\n",
        "\n",
        "notnull_mat = np.array([\n",
        "                      [2,3,1],\n",
        "                      [1,3,2]\n",
        "])\n",
        "\n",
        "describe_mat(null_mat)\n",
        "describe_mat(notnull_mat)"
      ],
      "metadata": {
        "id": "txoDOEsHBrUx",
        "colab": {
          "base_uri": "https://localhost:8080/"
        },
        "outputId": "4cef5ae7-7880-42e2-c6a8-990c48a77673"
      },
      "execution_count": 15,
      "outputs": [
        {
          "output_type": "stream",
          "name": "stdout",
          "text": [
            "Matrix:\n",
            "[]\n",
            "\n",
            "Shape:\t(0,)\n",
            "Rank:\t1\n",
            "\n",
            "Matrix:\n",
            "[[2 3 1]\n",
            " [1 3 2]]\n",
            "\n",
            "Shape:\t(2, 3)\n",
            "Rank:\t2\n",
            "\n"
          ]
        }
      ]
    },
    {
      "cell_type": "markdown",
      "source": [
        "###Zero Matrix"
      ],
      "metadata": {
        "id": "IZNTwD3FCY0C"
      }
    },
    {
      "cell_type": "markdown",
      "source": [
        "#####A zero matrix is a type of matrix wherein the entries of all the elements on rows and columns are zero. Zero matrices can be identified as an additive group in operating on matrices. After running the program, the students created a zero matrix with different dimensions."
      ],
      "metadata": {
        "id": "TJ3yzgo2pnlc"
      }
    },
    {
      "cell_type": "code",
      "source": [
        "zero_mat_row = np.zeros((2,3))\n",
        "zero_mat_sqr = np.zeros((3,3))\n",
        "zero_mat_rct = np.zeros((3,2))\n",
        "\n",
        "print(f'Zero Row Matrix: \\n{zero_mat_row}')\n",
        "print(f'Zero Square Matrix: \\n{zero_mat_sqr}')\n",
        "print(f'Zero Rectangular Matrix: \\n{zero_mat_rct}')"
      ],
      "metadata": {
        "id": "hpoItMhTCYgC",
        "colab": {
          "base_uri": "https://localhost:8080/"
        },
        "outputId": "6427701c-d80c-4aa5-afdf-1fb9e1e42595"
      },
      "execution_count": 16,
      "outputs": [
        {
          "output_type": "stream",
          "name": "stdout",
          "text": [
            "Zero Row Matrix: \n",
            "[[0. 0. 0.]\n",
            " [0. 0. 0.]]\n",
            "Zero Square Matrix: \n",
            "[[0. 0. 0.]\n",
            " [0. 0. 0.]\n",
            " [0. 0. 0.]]\n",
            "Zero Rectangular Matrix: \n",
            "[[0. 0.]\n",
            " [0. 0.]\n",
            " [0. 0.]]\n"
          ]
        }
      ]
    },
    {
      "cell_type": "markdown",
      "source": [
        "###Ones Matrix"
      ],
      "metadata": {
        "id": "QVp6cuXjDvtk"
      }
    },
    {
      "cell_type": "markdown",
      "source": [
        "#####The ones matrix is just the same as the zero matrices; however, the difference between the two is that the elements of this type of matrix are only integer 1. After running the program, the students created a zero matrix with different dimensions."
      ],
      "metadata": {
        "id": "qcNms-i4rE8_"
      }
    },
    {
      "cell_type": "code",
      "source": [
        "ones_mat_row = np.ones((2,3))\n",
        "ones_mat_sqr = np.ones((3,3))\n",
        "ones_mat_rct = np.ones((3,2))\n",
        "\n",
        "print(f'ones Row Matrix: \\n{ones_mat_row}')\n",
        "print(f'ones Square Matrix: \\n{ones_mat_sqr}')\n",
        "print(f'ones Rectangular Matrix: \\n{ones_mat_rct}')"
      ],
      "metadata": {
        "id": "vqHqNUifDypx",
        "colab": {
          "base_uri": "https://localhost:8080/"
        },
        "outputId": "549b0db2-a3dc-4494-d28a-083c900f80d0"
      },
      "execution_count": 17,
      "outputs": [
        {
          "output_type": "stream",
          "name": "stdout",
          "text": [
            "ones Row Matrix: \n",
            "[[1. 1. 1.]\n",
            " [1. 1. 1.]]\n",
            "ones Square Matrix: \n",
            "[[1. 1. 1.]\n",
            " [1. 1. 1.]\n",
            " [1. 1. 1.]]\n",
            "ones Rectangular Matrix: \n",
            "[[1. 1.]\n",
            " [1. 1.]\n",
            " [1. 1.]]\n"
          ]
        }
      ]
    },
    {
      "cell_type": "markdown",
      "source": [
        "####Diagonal Matrix"
      ],
      "metadata": {
        "id": "eFFGVOSKkZDZ"
      }
    },
    {
      "cell_type": "markdown",
      "source": [
        "#####Another type of square matrix is called the diagonal matrix, wherein the principal diagonal elements of a particular matrix are non-zero digits and the rest of the elements are zero. In this part of the activity, the students could program a diagonal matrix in various ways. For example, the first is by programming the matrix manually, and the other is by using the function np.diag."
      ],
      "metadata": {
        "id": "vvpeJh9rrkVF"
      }
    },
    {
      "cell_type": "code",
      "source": [
        "np.array([\n",
        "      [1,0,0],\n",
        "      [0,2,0],\n",
        "      [0,0,3]    \n",
        "])"
      ],
      "metadata": {
        "id": "4bv25rEBEzME",
        "colab": {
          "base_uri": "https://localhost:8080/"
        },
        "outputId": "e7c1cf7e-fb60-4bb0-b278-8f217ecd72ff"
      },
      "execution_count": 18,
      "outputs": [
        {
          "output_type": "execute_result",
          "data": {
            "text/plain": [
              "array([[1, 0, 0],\n",
              "       [0, 2, 0],\n",
              "       [0, 0, 3]])"
            ]
          },
          "metadata": {},
          "execution_count": 18
        }
      ]
    },
    {
      "cell_type": "code",
      "source": [
        "m = np.diag([1,2,3,5,1])\n",
        "m.shape[0] == m.shape[1]\n",
        "m"
      ],
      "metadata": {
        "id": "OfyqCODNFAdT",
        "colab": {
          "base_uri": "https://localhost:8080/"
        },
        "outputId": "25c89843-1dd5-4d83-bdc8-7586525a12ad"
      },
      "execution_count": 19,
      "outputs": [
        {
          "output_type": "execute_result",
          "data": {
            "text/plain": [
              "array([[1, 0, 0, 0, 0],\n",
              "       [0, 2, 0, 0, 0],\n",
              "       [0, 0, 3, 0, 0],\n",
              "       [0, 0, 0, 5, 0],\n",
              "       [0, 0, 0, 0, 1]])"
            ]
          },
          "metadata": {},
          "execution_count": 19
        }
      ]
    },
    {
      "cell_type": "markdown",
      "source": [
        "###Identity Matrix"
      ],
      "metadata": {
        "id": "6bf8qrgCF1cp"
      }
    },
    {
      "cell_type": "markdown",
      "source": [
        "#####An identity matrix is a special type of diagonal matrix where the values of the principal diagonal of a system or matrix are only the integer 1, and the rest are zero. Moreover, the students were able to produce an output regarding the identity matrix. Like on diagonal matrix, there are two ways to create this type of matrix: first is by manually typing the elements of the identity matrix, and; second is using the function np.identity."
      ],
      "metadata": {
        "id": "v3l4GoH_tOBK"
      }
    },
    {
      "cell_type": "code",
      "source": [
        "np.eye(3)"
      ],
      "metadata": {
        "id": "REecsEsEGCx0",
        "colab": {
          "base_uri": "https://localhost:8080/"
        },
        "outputId": "a735c451-11ba-400c-c2de-2af74fff1a61"
      },
      "execution_count": 20,
      "outputs": [
        {
          "output_type": "execute_result",
          "data": {
            "text/plain": [
              "array([[1., 0., 0.],\n",
              "       [0., 1., 0.],\n",
              "       [0., 0., 1.]])"
            ]
          },
          "metadata": {},
          "execution_count": 20
        }
      ]
    },
    {
      "cell_type": "code",
      "source": [
        "np.identity(5)"
      ],
      "metadata": {
        "id": "Fc-GAAYzGFk5",
        "colab": {
          "base_uri": "https://localhost:8080/"
        },
        "outputId": "29aa60a3-8bbb-4565-a590-691dfb2c4a3e"
      },
      "execution_count": 21,
      "outputs": [
        {
          "output_type": "execute_result",
          "data": {
            "text/plain": [
              "array([[1., 0., 0., 0., 0.],\n",
              "       [0., 1., 0., 0., 0.],\n",
              "       [0., 0., 1., 0., 0.],\n",
              "       [0., 0., 0., 1., 0.],\n",
              "       [0., 0., 0., 0., 1.]])"
            ]
          },
          "metadata": {},
          "execution_count": 21
        }
      ]
    },
    {
      "cell_type": "markdown",
      "source": [
        "##Upper Triangular Matrix"
      ],
      "metadata": {
        "id": "f6shi31cGnzi"
      }
    },
    {
      "cell_type": "markdown",
      "source": [
        "#####The upper triangular matrix is one of the classifications of the triangle matrix. A triangle matrix wherein the entries below the main diagonal of a particular matrix is equal to zero. On the other hand, the upper part is pure non-zero elements. For instance, in this part of the activity, the students were able to program an upper triangular matrix in various ways. The first is by manually constructing an upper triangular matrix. The other is by setting a square matrix with non-zero elements, and the students used the np.triu() function to create an upper triangular matrix."
      ],
      "metadata": {
        "id": "UqGjQ3s0uRP6"
      }
    },
    {
      "cell_type": "code",
      "source": [
        "np.array([\n",
        "          [1,2,3,4],\n",
        "          [0,3,6,9],\n",
        "          [0,0,-2,1],\n",
        "          [0,0,0,-3]\n",
        "])"
      ],
      "metadata": {
        "id": "GPqWnabaGr23",
        "colab": {
          "base_uri": "https://localhost:8080/"
        },
        "outputId": "31742a75-bde8-4ae3-feda-207737b5a3b1"
      },
      "execution_count": 22,
      "outputs": [
        {
          "output_type": "execute_result",
          "data": {
            "text/plain": [
              "array([[ 1,  2,  3,  4],\n",
              "       [ 0,  3,  6,  9],\n",
              "       [ 0,  0, -2,  1],\n",
              "       [ 0,  0,  0, -3]])"
            ]
          },
          "metadata": {},
          "execution_count": 22
        }
      ]
    },
    {
      "cell_type": "code",
      "source": [
        "a = np.array([\n",
        "              [1,2,3],\n",
        "              [4,5,6],\n",
        "              [7,8,9]\n",
        "])\n",
        "np.triu(a)"
      ],
      "metadata": {
        "id": "yUibpNrxLVBJ",
        "colab": {
          "base_uri": "https://localhost:8080/"
        },
        "outputId": "45d21b39-0245-419a-d727-f5618ef7e574"
      },
      "execution_count": 23,
      "outputs": [
        {
          "output_type": "execute_result",
          "data": {
            "text/plain": [
              "array([[1, 2, 3],\n",
              "       [0, 5, 6],\n",
              "       [0, 0, 9]])"
            ]
          },
          "metadata": {},
          "execution_count": 23
        }
      ]
    },
    {
      "cell_type": "markdown",
      "source": [
        "##Lower Triangular Matrix"
      ],
      "metadata": {
        "id": "5p1RxOFVG_n6"
      }
    },
    {
      "cell_type": "markdown",
      "source": [
        "#####The lower triangular matrix is also one of the classifications of the triangle matrix. It's a triangle matrix wherein the elements below the main diagonal of a particular matrix is equal to non-zero values, while the upper part is pure zero elements. For instance, in this part of the activity, the students were able to program lower triangular matrix in numerous ways. The first is by constructing an upper triangular matrix manually. The other one is by setting a 4x4 square matrix with non-zero elements, and the students used the np.tril() function to create a lower triangular matrix."
      ],
      "metadata": {
        "id": "0y83fJBlv81p"
      }
    },
    {
      "cell_type": "code",
      "source": [
        "np.array([\n",
        "          [1,0,0,0],\n",
        "          [-2,6,0,0],\n",
        "          [-7,3,-2,0],\n",
        "          [1,2,-2,-3]\n",
        "])"
      ],
      "metadata": {
        "id": "AYHTGXTVHB_W",
        "colab": {
          "base_uri": "https://localhost:8080/"
        },
        "outputId": "9512d8f2-7c86-47f5-f800-eb8dcf028cbf"
      },
      "execution_count": 24,
      "outputs": [
        {
          "output_type": "execute_result",
          "data": {
            "text/plain": [
              "array([[ 1,  0,  0,  0],\n",
              "       [-2,  6,  0,  0],\n",
              "       [-7,  3, -2,  0],\n",
              "       [ 1,  2, -2, -3]])"
            ]
          },
          "metadata": {},
          "execution_count": 24
        }
      ]
    },
    {
      "cell_type": "code",
      "source": [
        "a = np.array([\n",
        "              [1,2,3],\n",
        "              [4,5,6],\n",
        "              [7,8,9]\n",
        "])\n",
        "np.tril(a)"
      ],
      "metadata": {
        "id": "sspgGGzILDkn",
        "colab": {
          "base_uri": "https://localhost:8080/"
        },
        "outputId": "3992e3c9-61ae-413a-a4f3-c635bacb25d1"
      },
      "execution_count": 25,
      "outputs": [
        {
          "output_type": "execute_result",
          "data": {
            "text/plain": [
              "array([[1, 0, 0],\n",
              "       [4, 5, 0],\n",
              "       [7, 8, 9]])"
            ]
          },
          "metadata": {},
          "execution_count": 25
        }
      ]
    },
    {
      "cell_type": "markdown",
      "source": [
        "###Practice"
      ],
      "metadata": {
        "id": "ae2yy-EiHhVy"
      }
    },
    {
      "cell_type": "code",
      "source": [
        "import numpy as np\n",
        "import matplotlib.pyplot as plt\n",
        "import scipy.linalg as la\n",
        "%matplotlib inline "
      ],
      "metadata": {
        "id": "m2_8nrtZRIaf"
      },
      "execution_count": 32,
      "outputs": []
    },
    {
      "cell_type": "markdown",
      "source": [
        "###1. Given the linear combination below, try to create a corresponding matrix representing it.\n"
      ],
      "metadata": {
        "id": "xvQ6JAluH8jR"
      }
    },
    {
      "cell_type": "markdown",
      "source": [
        ":$$\\theta = 5x + 3y - z$$\n"
      ],
      "metadata": {
        "id": "Xt7Kb30THm_Z"
      }
    },
    {
      "cell_type": "code",
      "source": [
        "θ = np.array([\n",
        "  [5, 3, -1]\n",
        "])\n",
        "print(θ)"
      ],
      "metadata": {
        "id": "lZiggcj4JWqg",
        "colab": {
          "base_uri": "https://localhost:8080/"
        },
        "outputId": "b89f8b48-2889-4d04-9d2b-86016a6b8e99"
      },
      "execution_count": 33,
      "outputs": [
        {
          "output_type": "stream",
          "name": "stdout",
          "text": [
            "[[ 5  3 -1]]\n"
          ]
        }
      ]
    },
    {
      "cell_type": "markdown",
      "source": [
        "###2.Given the system of linear combinations below, try to encode it as a matrix. Also describe the matrix.\n"
      ],
      "metadata": {
        "id": "3jFFhATaImVs"
      }
    },
    {
      "cell_type": "markdown",
      "source": [
        "$$\n",
        "A = \\left\\{\\begin{array}\n",
        "5x_1 + 2x_2 +x_3\\\\\n",
        "4x_2 - x_3\\\\\n",
        "10x_3\n",
        "\\end{array}\\right.\n",
        "$$\n"
      ],
      "metadata": {
        "id": "nj7c9mDOHz74"
      }
    },
    {
      "cell_type": "markdown",
      "source": [
        "###3.Given the matrix below, express it as a linear combination in a markdown and a LaTeX markdown\n"
      ],
      "metadata": {
        "id": "VG37xSrpIr37"
      }
    },
    {
      "cell_type": "code",
      "source": [
        "G = np.array([\n",
        "    [1,7,8],\n",
        "    [2,2,2],\n",
        "    [4,6,7]\n",
        "])\n"
      ],
      "metadata": {
        "id": "MiXvTzNjJXOm"
      },
      "execution_count": 34,
      "outputs": []
    },
    {
      "cell_type": "markdown",
      "source": [
        "$$\n",
        "A = \\left\\{\\begin{array}\n",
        "1x_1 + 7x_2 + 8x_3\\\\\n",
        "2x_1 + 2x_2 + 2x_3\\\\\n",
        "4x_1 + 6x_2 + 7x_3\n",
        "\\end{array}\\right.\n",
        "$$\n"
      ],
      "metadata": {
        "id": "qmPGaMUUJS21"
      }
    },
    {
      "cell_type": "markdown",
      "source": [
        "###4.Given the matrix below, display the output as a LaTeX markdown also express it as a system of linear combinations.\n"
      ],
      "metadata": {
        "id": "sEXwyhEyI22B"
      }
    },
    {
      "cell_type": "code",
      "source": [
        "H = np.tril(G)\n",
        "H\n"
      ],
      "metadata": {
        "id": "6f8OOurPI_1U",
        "colab": {
          "base_uri": "https://localhost:8080/"
        },
        "outputId": "0a6d2b5d-9c9c-429b-a78e-490885eaba13"
      },
      "execution_count": 35,
      "outputs": [
        {
          "output_type": "execute_result",
          "data": {
            "text/plain": [
              "array([[1, 0, 0],\n",
              "       [2, 2, 0],\n",
              "       [4, 6, 7]])"
            ]
          },
          "metadata": {},
          "execution_count": 35
        }
      ]
    },
    {
      "cell_type": "markdown",
      "source": [
        "$$\n",
        "A = \\left\\{\\begin{array}\n",
        "1x_1\\\\\n",
        "2x_1 + 2x_2\\\\\n",
        "4x_1 + 6x_2 + 7x_3\n",
        "\\end{array}\\right.\n",
        "$$\n"
      ],
      "metadata": {
        "id": "0Q-oaygRJnJ4"
      }
    },
    {
      "cell_type": "markdown",
      "source": [
        "##Matrix ALgebra"
      ],
      "metadata": {
        "id": "OyoDLlJGJcsc"
      }
    },
    {
      "cell_type": "markdown",
      "source": [
        "#####Matrix Algebra is widely used in simplifying the presentation and solution of a particular mathematical expression. It consists of different mathematical operations such as Addition, Subtraction, and Element-wise multiplication. How each operation works is the same as how the fundamental operations operate; however, the operation will apply to the element for element, just like the student's examples created below."
      ],
      "metadata": {
        "id": "jge-r8tCxKiQ"
      }
    },
    {
      "cell_type": "markdown",
      "source": [
        "###ADDITION"
      ],
      "metadata": {
        "id": "j3VF9ZN-JecU"
      }
    },
    {
      "cell_type": "code",
      "source": [
        "R = np.array([\n",
        "              [2,3],\n",
        "              [4,2],\n",
        "              [1,5]\n",
        "])\n",
        "J = np.array([\n",
        "              [3,3],\n",
        "              [4,-12],\n",
        "              [11,5]\n",
        "])\n",
        "R+J"
      ],
      "metadata": {
        "id": "fCpDhUHDJgNM",
        "colab": {
          "base_uri": "https://localhost:8080/"
        },
        "outputId": "ed3a0969-6be4-4325-dcab-cf0e4ef3f230"
      },
      "execution_count": 26,
      "outputs": [
        {
          "output_type": "execute_result",
          "data": {
            "text/plain": [
              "array([[  5,   6],\n",
              "       [  8, -10],\n",
              "       [ 12,  10]])"
            ]
          },
          "metadata": {},
          "execution_count": 26
        }
      ]
    },
    {
      "cell_type": "code",
      "source": [
        "7+R"
      ],
      "metadata": {
        "id": "ZLoCGvJXJ3wa",
        "colab": {
          "base_uri": "https://localhost:8080/"
        },
        "outputId": "7c64d931-9eba-4195-a6c3-573240f0cbe0"
      },
      "execution_count": 27,
      "outputs": [
        {
          "output_type": "execute_result",
          "data": {
            "text/plain": [
              "array([[ 9, 10],\n",
              "       [11,  9],\n",
              "       [ 8, 12]])"
            ]
          },
          "metadata": {},
          "execution_count": 27
        }
      ]
    },
    {
      "cell_type": "markdown",
      "source": [
        "##SUBTRACTION"
      ],
      "metadata": {
        "id": "Fk0QLkDYKBuM"
      }
    },
    {
      "cell_type": "code",
      "source": [
        "R = np.array([\n",
        "              [2,3],\n",
        "              [4,2],\n",
        "              [1,5]\n",
        "])\n",
        "J = np.array([\n",
        "              [3,3],\n",
        "              [4,-12],\n",
        "              [11,5]\n",
        "])\n",
        "R-J"
      ],
      "metadata": {
        "id": "JkhUz7-xKDVU",
        "colab": {
          "base_uri": "https://localhost:8080/"
        },
        "outputId": "e047c728-cbb3-4c98-bace-95087650e622"
      },
      "execution_count": 28,
      "outputs": [
        {
          "output_type": "execute_result",
          "data": {
            "text/plain": [
              "array([[ -1,   0],\n",
              "       [  0,  14],\n",
              "       [-10,   0]])"
            ]
          },
          "metadata": {},
          "execution_count": 28
        }
      ]
    },
    {
      "cell_type": "code",
      "source": [
        "J-31"
      ],
      "metadata": {
        "id": "jMdlHONWKGoD",
        "colab": {
          "base_uri": "https://localhost:8080/"
        },
        "outputId": "4b8e6789-ad59-4e14-d6f9-b598437bfa40"
      },
      "execution_count": 29,
      "outputs": [
        {
          "output_type": "execute_result",
          "data": {
            "text/plain": [
              "array([[-28, -28],\n",
              "       [-27, -43],\n",
              "       [-20, -26]])"
            ]
          },
          "metadata": {},
          "execution_count": 29
        }
      ]
    },
    {
      "cell_type": "markdown",
      "source": [
        "##Element-wise Multiplication"
      ],
      "metadata": {
        "id": "i0lxQ6BjKKsV"
      }
    },
    {
      "cell_type": "code",
      "source": [
        "R = np.array([\n",
        "              [2,3],\n",
        "              [4,2],\n",
        "              [1,5]\n",
        "])\n",
        "J = np.array([\n",
        "              [3,3],\n",
        "              [4,-12],\n",
        "              [11,5]\n",
        "])\n",
        "R*J\n",
        "np.multiply(R,J)"
      ],
      "metadata": {
        "id": "n1ic3kVUKOzL",
        "colab": {
          "base_uri": "https://localhost:8080/"
        },
        "outputId": "820b662d-5628-42b1-9c6d-d88efd9cf103"
      },
      "execution_count": 30,
      "outputs": [
        {
          "output_type": "execute_result",
          "data": {
            "text/plain": [
              "array([[  6,   9],\n",
              "       [ 16, -24],\n",
              "       [ 11,  25]])"
            ]
          },
          "metadata": {},
          "execution_count": 30
        }
      ]
    },
    {
      "cell_type": "markdown",
      "source": [
        "##TASK 1"
      ],
      "metadata": {
        "id": "YCaf1-mm5TGF"
      }
    },
    {
      "cell_type": "code",
      "source": [
        "import numpy as np\n",
        "import matplotlib.pyplot as plt\n",
        "import scipy.linalg as la\n",
        "%matplotlib inline "
      ],
      "metadata": {
        "id": "doP9RxDe5U6S"
      },
      "execution_count": null,
      "outputs": []
    },
    {
      "cell_type": "code",
      "source": [
        "def mat_desc(matrix):\n",
        "  mat = matrix\n",
        "  f = 'False'\n",
        "  if matrix.size > 0:\n",
        "    is_square = True if matrix.shape[0] == matrix.shape[1] else False\n",
        "    is_empty = True if matrix.shape[0] == matrix.shape[1] == 0 else False\n",
        "    is_ones = True if (np.ones((matrix.shape[0],matrix.shape[1])) == mat).all() else False\n",
        "    is_zero = True if (np.zeros((matrix.shape[0],matrix.shape[1])) == mat).all() else False\n",
        "    print(f'Matrix:\\n{matrix}\\n\\nShape:\\t{matrix.shape}\\nSize:{matrix.size}\\nRank:\\t{matrix.ndim}\\nIs the matrix square:{is_square}\\nEmpty Matrix: False\\nOnes Matrix:{is_ones}\\nZero Matrix:{is_zero}')\n",
        "  else:\n",
        "    print(f'Matrix:\\n{matrix}\\n\\nShape:\\t{matrix.shape}\\nSize:{matrix.size}\\nRank:\\t{matrix.ndim}\\nIs the matrix square:{f}\\nEmpty Matrix: True\\nOnes Matrix:{f}\\nZero Matrix:{f}')\n",
        "  \n",
        "  if matrix.shape[0]==matrix.shape[1]:\n",
        "    is_identity = True if (np.identity(matrix.shape[0]) == mat).all() else False\n",
        "    print(f'Identity Matrix:{is_identity}')\n",
        "  else:\n",
        "    print(f'Identity Matrix:{f}')\n",
        " "
      ],
      "metadata": {
        "id": "K5MHHfbz5ZEO"
      },
      "execution_count": null,
      "outputs": []
    },
    {
      "cell_type": "code",
      "source": [
        "matrix2 = np.array([\n",
        "                    [11,32,9],\n",
        "                    [1,2,22],\n",
        "                    [8,2,1],\n",
        "                    [1,2,3]\n",
        "])\n",
        "mat_desc(matrix2)\n"
      ],
      "metadata": {
        "colab": {
          "base_uri": "https://localhost:8080/"
        },
        "id": "5gfPyEqQ56vZ",
        "outputId": "f168cc05-2e53-4a5f-807a-3fd972790649"
      },
      "execution_count": null,
      "outputs": [
        {
          "output_type": "stream",
          "name": "stdout",
          "text": [
            "Matrix:\n",
            "[[11 32  9]\n",
            " [ 1  2 22]\n",
            " [ 8  2  1]\n",
            " [ 1  2  3]]\n",
            "\n",
            "Shape:\t(4, 3)\n",
            "Size:12\n",
            "Rank:\t2\n",
            "Is the matrix square:False\n",
            "Empty Matrix: False\n",
            "Ones Matrix:False\n",
            "Zero Matrix:False\n",
            "Identity Matrix:False\n"
          ]
        }
      ]
    },
    {
      "cell_type": "code",
      "source": [
        "matrix22 = np.array([\n",
        "                    []\n",
        "])\n",
        "mat_desc(matrix22)"
      ],
      "metadata": {
        "colab": {
          "base_uri": "https://localhost:8080/"
        },
        "id": "lBDAwPRl64t5",
        "outputId": "18c7f43f-3a8a-40c3-8f19-9b2a4ecdf695"
      },
      "execution_count": null,
      "outputs": [
        {
          "output_type": "stream",
          "name": "stdout",
          "text": [
            "Matrix:\n",
            "[]\n",
            "\n",
            "Shape:\t(1, 0)\n",
            "Size:0\n",
            "Rank:\t2\n",
            "Is the matrix square:False\n",
            "Empty Matrix: True\n",
            "Ones Matrix:False\n",
            "Zero Matrix:False\n",
            "Identity Matrix:False\n"
          ]
        }
      ]
    },
    {
      "cell_type": "code",
      "source": [
        "m = np.identity(5)\n",
        "mat_desc(m)"
      ],
      "metadata": {
        "colab": {
          "base_uri": "https://localhost:8080/"
        },
        "id": "qR4waG20-nCg",
        "outputId": "b66596c1-006d-4bcd-fa6a-8a08c3e5a5d0"
      },
      "execution_count": null,
      "outputs": [
        {
          "output_type": "stream",
          "name": "stdout",
          "text": [
            "Matrix:\n",
            "[[1. 0. 0. 0. 0.]\n",
            " [0. 1. 0. 0. 0.]\n",
            " [0. 0. 1. 0. 0.]\n",
            " [0. 0. 0. 1. 0.]\n",
            " [0. 0. 0. 0. 1.]]\n",
            "\n",
            "Shape:\t(5, 5)\n",
            "Size:25\n",
            "Rank:\t2\n",
            "Is the matrix square:True\n",
            "Matrix is not EMPTY\n",
            "Ones Matrix:False\n",
            "Zero Matrix:False\n",
            "Identity Matrix:True\n"
          ]
        }
      ]
    },
    {
      "cell_type": "code",
      "source": [
        "matrix1 = np.ones((4,4))\n",
        "mat_desc(matrix1)"
      ],
      "metadata": {
        "colab": {
          "base_uri": "https://localhost:8080/"
        },
        "id": "fP3A18km-oeW",
        "outputId": "15288f42-22b8-4325-b809-53f4bef9f6cf"
      },
      "execution_count": null,
      "outputs": [
        {
          "output_type": "stream",
          "name": "stdout",
          "text": [
            "Matrix:\n",
            "[[1. 1. 1. 1.]\n",
            " [1. 1. 1. 1.]\n",
            " [1. 1. 1. 1.]\n",
            " [1. 1. 1. 1.]]\n",
            "\n",
            "Shape:\t(4, 4)\n",
            "Size:16\n",
            "Rank:\t2\n",
            "Is the matrix square:True\n",
            "Matrix is not EMPTY\n",
            "Ones Matrix:True\n",
            "Zero Matrix:False\n",
            "Identity Matrix:False\n"
          ]
        }
      ]
    },
    {
      "cell_type": "code",
      "source": [
        "matrix6 = np.array([\n",
        "                    [0,0,0,0],\n",
        "                    [0,0,0,0],\n",
        "                    [0,0,0,0]\n",
        "])\n",
        "\n",
        "mat_desc(matrix6)"
      ],
      "metadata": {
        "colab": {
          "base_uri": "https://localhost:8080/"
        },
        "id": "6tpbeWAu-vVh",
        "outputId": "e44e5f10-aba4-442c-98e8-15fcbd85d737"
      },
      "execution_count": null,
      "outputs": [
        {
          "output_type": "stream",
          "name": "stdout",
          "text": [
            "Matrix:\n",
            "[[0 0 0 0]\n",
            " [0 0 0 0]\n",
            " [0 0 0 0]]\n",
            "\n",
            "Shape:\t(3, 4)\n",
            "Size:12\n",
            "Rank:\t2\n",
            "Is the matrix square:False\n",
            "Matrix is not EMPTY\n",
            "Ones Matrix:False\n",
            "Zero Matrix:True\n",
            "Identity Matrix:False\n"
          ]
        }
      ]
    },
    {
      "cell_type": "markdown",
      "source": [
        "##Task 2"
      ],
      "metadata": {
        "id": "RHYrz9rNJvWj"
      }
    },
    {
      "cell_type": "code",
      "source": [
        "import numpy as np\n",
        "def mat_operations(matrix_1, matrix_2):\n",
        "\n",
        "  if(matrix_1.shape != matrix_2.shape):\n",
        "    print('The matrices are not equal in dimensions. Please try again.')\n",
        "    return\n",
        "\n",
        "  print(\"Input the desired operation.\\n + = additon\\n - = subtraction\\n * = multiplication\\n / = division.\")\n",
        "  operation = input('Enter operation: ')\n",
        "\n",
        "#addition\n",
        "  if (operation == '+'):\n",
        "      sum = matrix_1 + matrix_2\n",
        "      print(\"The sum of matrix 1 and matrix 2 is:\\n {}\".format(sum))\n",
        "#subtraction\n",
        "  if (operation == '-'):\n",
        "      diff = matrix_1 - matrix_2\n",
        "      print(\"The difference of matrix 1 and matrix 2 is:\\n {}\".format(diff))\n",
        "#multiplication\n",
        "  if (operation == '*'):\n",
        "      pro = matrix_1 * matrix_2\n",
        "      print(\"The difference of matrix 1 and matrix 2 is:\\n {}\".format(pro))\n",
        "#division\n",
        "  if (operation == '/'):\n",
        "      quo = matrix_1 / matrix_2\n",
        "      print(\"The quotient of matrix 1 and matrix 2 is:\\n {}\".format(quo))"
      ],
      "metadata": {
        "id": "D4-QEWBpKTrn"
      },
      "execution_count": 37,
      "outputs": []
    },
    {
      "cell_type": "code",
      "source": [
        "K = np.array([[10.23,-8],\n",
        "    [0 ,-2.09],\n",
        "    [1, 2]])\n",
        "\n",
        "P = np.array([[2, -9.003, 7],\n",
        "    [0, 1.454, 3.097]])\n",
        "    \n",
        "mat_operations(K,P)"
      ],
      "metadata": {
        "colab": {
          "base_uri": "https://localhost:8080/"
        },
        "id": "pP6yPuTPKVWD",
        "outputId": "3412ddec-82f2-4d70-b874-369a09a2c988"
      },
      "execution_count": 38,
      "outputs": [
        {
          "output_type": "stream",
          "name": "stdout",
          "text": [
            "The matrices are not equal in dimensions. Please try again.\n"
          ]
        }
      ]
    },
    {
      "cell_type": "code",
      "source": [
        "K = np.array([[10.23,-8,4.7843],\n",
        "    [0 ,-2.09,3.867],\n",
        "    [1, 2,3]])\n",
        "\n",
        "P = np.array([[2, -9.003, 7],\n",
        "    [0, 1.454, 3.097],\n",
        "    [5,6,7]])\n",
        "    \n",
        "mat_operations(K,P)"
      ],
      "metadata": {
        "colab": {
          "base_uri": "https://localhost:8080/"
        },
        "id": "6oJtQvzmLcN4",
        "outputId": "04c206a3-8675-42a9-c397-69ccfed1fbb8"
      },
      "execution_count": 42,
      "outputs": [
        {
          "output_type": "stream",
          "name": "stdout",
          "text": [
            "Input the desired operation.\n",
            " + = additon\n",
            " - = subtraction\n",
            " * = multiplication\n",
            " / = division.\n",
            "Enter operation: +\n",
            "The sum of matrix 1 and matrix 2 is:\n",
            " [[ 12.23   -17.003   11.7843]\n",
            " [  0.      -0.636    6.964 ]\n",
            " [  6.       8.      10.    ]]\n"
          ]
        }
      ]
    },
    {
      "cell_type": "code",
      "source": [
        "Y = np.array([[103,-8, 7845],\n",
        "    [0 ,-287, 3.867],\n",
        "    [23, 56, 9]])\n",
        "\n",
        "X = np.array([[3, -4548, 54],\n",
        "    [78, 1, 468],\n",
        "    [98, 544, 5]])\n",
        "    \n",
        "mat_operations(X,Y)"
      ],
      "metadata": {
        "colab": {
          "base_uri": "https://localhost:8080/"
        },
        "id": "H3ZijeItKfDq",
        "outputId": "ce641c7e-dca5-46c7-aedf-3b546cbc0e97"
      },
      "execution_count": 39,
      "outputs": [
        {
          "output_type": "stream",
          "name": "stdout",
          "text": [
            "Input the desired operation.\n",
            " + = additon\n",
            " - = subtraction\n",
            " * = multiplication\n",
            " / = division.\n",
            "Enter operation: -\n",
            "The difference of matrix 1 and matrix 2 is:\n",
            " [[-1.00000e+02 -4.54000e+03 -7.79100e+03]\n",
            " [ 7.80000e+01  2.88000e+02  4.64133e+02]\n",
            " [ 7.50000e+01  4.88000e+02 -4.00000e+00]]\n"
          ]
        }
      ]
    },
    {
      "cell_type": "code",
      "source": [
        "R = np.array([[1.23,-7, 1.3853],\n",
        "    [4 ,-12.10, -2.7],\n",
        "    [-3, 1.09, 3.3]])\n",
        "\n",
        "J = np.array([[22, -8.3, 4],\n",
        "    [20, -11.45, 13.97],\n",
        "    [-5, 16, 8.1]])\n",
        "    \n",
        "mat_operations(R,J)"
      ],
      "metadata": {
        "colab": {
          "base_uri": "https://localhost:8080/"
        },
        "id": "Jl4RdjWlKnXE",
        "outputId": "2df9766d-9613-406a-a9f4-953d72ab0684"
      },
      "execution_count": 40,
      "outputs": [
        {
          "output_type": "stream",
          "name": "stdout",
          "text": [
            "Input the desired operation.\n",
            " + = additon\n",
            " - = subtraction\n",
            " * = multiplication\n",
            " / = division.\n",
            "Enter operation: *\n",
            "The difference of matrix 1 and matrix 2 is:\n",
            " [[ 27.06    58.1      5.5412]\n",
            " [ 80.     138.545  -37.719 ]\n",
            " [ 15.      17.44    26.73  ]]\n"
          ]
        }
      ]
    },
    {
      "cell_type": "code",
      "source": [
        "R = np.array([[1.23,-7, 1.3853],\n",
        "    [4 ,-12.10, -2.7],\n",
        "    [-3, 1.09, 3.3]])\n",
        "\n",
        "J = np.array([[2, -8., 8],\n",
        "    [2, -15, 17],\n",
        "    [-15, 6, .1]])\n",
        "    \n",
        "mat_operations(R,J)"
      ],
      "metadata": {
        "colab": {
          "base_uri": "https://localhost:8080/"
        },
        "id": "mSVcmOlEKzyv",
        "outputId": "37ae9ef1-9a7b-47ce-d3fa-6a290e6f36e4"
      },
      "execution_count": 41,
      "outputs": [
        {
          "output_type": "stream",
          "name": "stdout",
          "text": [
            "Input the desired operation.\n",
            " + = additon\n",
            " - = subtraction\n",
            " * = multiplication\n",
            " / = division.\n",
            "Enter operation: /\n",
            "The quotient of matrix 1 and matrix 2 is:\n",
            " [[ 0.615       0.875       0.1731625 ]\n",
            " [ 2.          0.80666667 -0.15882353]\n",
            " [ 0.2         0.18166667 33.        ]]\n"
          ]
        }
      ]
    }
  ]
}