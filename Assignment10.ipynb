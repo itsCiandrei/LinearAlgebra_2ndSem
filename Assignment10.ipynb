{
  "nbformat": 4,
  "nbformat_minor": 0,
  "metadata": {
    "colab": {
      "name": "Assignment10_BENITEZ_FERNANDEZ.ipynb",
      "provenance": [],
      "collapsed_sections": [],
      "authorship_tag": "ABX9TyO31M+oEdXFkhRogAWcpCxW",
      "include_colab_link": true
    },
    "kernelspec": {
      "name": "python3",
      "display_name": "Python 3"
    },
    "language_info": {
      "name": "python"
    }
  },
  "cells": [
    {
      "cell_type": "markdown",
      "metadata": {
        "id": "view-in-github",
        "colab_type": "text"
      },
      "source": [
        "<a href=\"https://colab.research.google.com/github/itsCiandrei/LinearAlgebra_2ndSem/blob/main/Assignment10.ipynb\" target=\"_parent\"><img src=\"https://colab.research.google.com/assets/colab-badge.svg\" alt=\"Open In Colab\"/></a>"
      ]
    },
    {
      "cell_type": "markdown",
      "source": [
        "# Linear Algebra for ECE\n",
        "## Laboratory 10 : Linear Combination and Vector Spaces"
      ],
      "metadata": {
        "id": "YuyI6eK5QdKh"
      }
    },
    {
      "cell_type": "markdown",
      "source": [
        "Now that you have a fundamental knowledge about linear combination, we'll try to visualize it using scientific programming."
      ],
      "metadata": {
        "id": "ArYcpHdxQhrW"
      }
    },
    {
      "cell_type": "markdown",
      "source": [
        "### Objectives\n",
        "At the end of this activity you will be able to:\n",
        "1. Be familiar with representing linear combinations in the 2-dimensional plane.\n",
        "2. Visualize spans using vector fields in Python.\n",
        "3. Perform vector fields operations using scientific programming."
      ],
      "metadata": {
        "id": "_oIqUkjXQl8b"
      }
    },
    {
      "cell_type": "markdown",
      "source": [
        "## Discussion"
      ],
      "metadata": {
        "id": "Kyr7SJqcQpAs"
      }
    },
    {
      "cell_type": "code",
      "execution_count": 2,
      "metadata": {
        "id": "_g7QlkywPoMP"
      },
      "outputs": [],
      "source": [
        "import numpy as np\n",
        "import matplotlib.pyplot as plt\n",
        "%matplotlib inline"
      ]
    },
    {
      "cell_type": "markdown",
      "source": [
        "##Linear Combination"
      ],
      "metadata": {
        "id": "oXs3nrzHQvJ7"
      }
    },
    {
      "cell_type": "markdown",
      "source": [
        "It is said that a linear combination is the combination of linear scaling and addition of a vector its bases/components\n",
        "\n",
        "We will try to visualize the vectors and their linear combinations by plotting a sample of real number values for the scalars for the vectors. Let's first try the vectors below:\n",
        "\n",
        "$$R = \\begin{bmatrix} 1\\\\2 \\\\\\end{bmatrix} , P = \\begin{bmatrix} -2\\\\3 \\\\\\end{bmatrix} $$"
      ],
      "metadata": {
        "id": "akJ2HutkQyLD"
      }
    },
    {
      "cell_type": "code",
      "source": [
        "vectR =  np.array([1,2])\n",
        "vectP =  np.array([-2,3])"
      ],
      "metadata": {
        "id": "33osCNAUdvUG"
      },
      "execution_count": 57,
      "outputs": []
    },
    {
      "cell_type": "code",
      "source": [
        "vectR"
      ],
      "metadata": {
        "colab": {
          "base_uri": "https://localhost:8080/"
        },
        "id": "iNZ-DerFxddr",
        "outputId": "f82eeb6f-9b3d-453a-ec61-29ae0ecfe49d"
      },
      "execution_count": 58,
      "outputs": [
        {
          "output_type": "execute_result",
          "data": {
            "text/plain": [
              "array([1, 2])"
            ]
          },
          "metadata": {},
          "execution_count": 58
        }
      ]
    },
    {
      "cell_type": "code",
      "source": [
        "vectP"
      ],
      "metadata": {
        "colab": {
          "base_uri": "https://localhost:8080/"
        },
        "id": "vCm56PzkxfxI",
        "outputId": "06265b8e-4cc7-4546-ec72-093a8359447d"
      },
      "execution_count": 59,
      "outputs": [
        {
          "output_type": "execute_result",
          "data": {
            "text/plain": [
              "array([-2,  3])"
            ]
          },
          "metadata": {},
          "execution_count": 59
        }
      ]
    },
    {
      "cell_type": "markdown",
      "source": [
        "## Span of single vectors"
      ],
      "metadata": {
        "id": "OsklwHwxelo2"
      }
    },
    {
      "cell_type": "markdown",
      "source": [
        "A vector of x and y is multiplied to three constants. The first one being the start of the point plot. While the second constant is where the plot will stop. Lastly, the last constant will be multiplied to the vector and serve increments or the point plots in the graph. The constants are multiplied to the vector using “np.arrange (c1,c2,c3)”. In addition, plt.scatter determines the plot as well as the constant multiplied to the vector. The [0] in the plt.scatter serves as the X value while [1] is for the Y value."
      ],
      "metadata": {
        "id": "R4sooI9eepPp"
      }
    },
    {
      "cell_type": "markdown",
      "source": [
        "$$R = c\\cdot \\begin{bmatrix} 1\\\\2 \\\\\\end{bmatrix} $$"
      ],
      "metadata": {
        "id": "mz8gaM7oR2mz"
      }
    },
    {
      "cell_type": "code",
      "source": [
        "vectR = np.array([1,2])"
      ],
      "metadata": {
        "id": "MAHHJzbYSBDT"
      },
      "execution_count": null,
      "outputs": []
    },
    {
      "cell_type": "code",
      "source": [
        "c = np.arange(-5,5,.5)\n",
        "\n",
        "plt.scatter(c*vectR[0],c*vectR[1])\n",
        "\n",
        "plt.xlim(-10,10)\n",
        "plt.ylim(-10,10)\n",
        "plt.axhline(y=0, color='k')\n",
        "plt.axvline(x=0, color='k')\n",
        "plt.grid()\n",
        "plt.show()"
      ],
      "metadata": {
        "colab": {
          "base_uri": "https://localhost:8080/",
          "height": 269
        },
        "id": "4PL3IsLWQ7x0",
        "outputId": "b0995959-8904-4790-c4e3-9e487dcf8c41"
      },
      "execution_count": 60,
      "outputs": [
        {
          "output_type": "display_data",
          "data": {
            "text/plain": [
              "<Figure size 432x288 with 1 Axes>"
            ],
            "image/png": "[encoded data removed]"
          },
          "metadata": {
            "needs_background": "light"
          }
        }
      ]
    },
    {
      "cell_type": "markdown",
      "source": [
        "$$P = c\\cdot \\begin{bmatrix} -2\\\\3 \\\\\\end{bmatrix} $$"
      ],
      "metadata": {
        "id": "goAMWjDxeyvE"
      }
    },
    {
      "cell_type": "code",
      "source": [
        "vectP = np.array([-2,3])"
      ],
      "metadata": {
        "id": "hOe-bF-80Iqd"
      },
      "execution_count": 8,
      "outputs": []
    },
    {
      "cell_type": "code",
      "source": [
        "c = np.arange(-10,10,.75)\n",
        "\n",
        "plt.scatter(c*vectP[0],c*vectP[1])\n",
        "\n",
        "plt.xlim(-31,31)\n",
        "plt.ylim(-31,31)\n",
        "plt.axhline(y=0, color='k')\n",
        "plt.axvline(x=0, color='k')\n",
        "plt.grid()\n",
        "plt.show()"
      ],
      "metadata": {
        "colab": {
          "base_uri": "https://localhost:8080/",
          "height": 266
        },
        "id": "uSUBwEXS0K2f",
        "outputId": "45275ccd-de74-4605-9b81-05c9b3d140d0"
      },
      "execution_count": 10,
      "outputs": [
        {
          "output_type": "display_data",
          "data": {
            "text/plain": [
              "<Figure size 432x288 with 1 Axes>"
            ],
            "image/png": "[encoded data removed]"
          },
          "metadata": {
            "needs_background": "light"
          }
        }
      ]
    },
    {
      "cell_type": "markdown",
      "source": [
        "##Span of a linear combination of vectors"
      ],
      "metadata": {
        "id": "id-oK-AFe7Lz"
      }
    },
    {
      "cell_type": "markdown",
      "source": [
        "Plotting the span of a linear combination of vectors will resulted to a two-dimensional plane. This span of a linear combination is the set of all possible combinations that can be formed from the elements of the given vectors multiplying to a set of scalars."
      ],
      "metadata": {
        "id": "okC1V4ymsKwv"
      }
    },
    {
      "cell_type": "markdown",
      "source": [
        "$$S = \\begin{Bmatrix} c_1 \\cdot\\begin{bmatrix} -3\\\\3 \\\\\\end{bmatrix}, \n",
        "c_2 \\cdot \\begin{bmatrix} 4\\\\2 \\\\\\end{bmatrix}\\end{Bmatrix} $$"
      ],
      "metadata": {
        "id": "SSvZYGClfHg_"
      }
    },
    {
      "cell_type": "code",
      "source": [
        "vectRJ = np.array([-3,3])\n",
        "vectJP = np.array([4,2])\n",
        "\n",
        "R = np.arange(-5,5,1)\n",
        "\n",
        "c1, c2 = np.meshgrid(R,R)\n",
        "\n",
        "vectR = vectRJ + vectJP\n",
        "spanRx = c1*vectRJ[0] + c2*vectJP[0]\n",
        "spanRy = c1*vectRJ[1] + c2*vectJP[1]\n",
        "plt.scatter(R*vectRJ[0],R*vectRJ[1])\n",
        "plt.scatter(R*vectJP[0],R*vectJP[1])\n",
        "plt.scatter(spanRx,spanRy, s=10, alpha=1)\n",
        "\n",
        "plt.axhline(y=0, color='k')\n",
        "plt.axvline(x=0, color='k')\n",
        "plt.grid()\n",
        "plt.show()"
      ],
      "metadata": {
        "id": "ZOcCpF7ZbBZj"
      },
      "execution_count": null,
      "outputs": []
    },
    {
      "cell_type": "markdown",
      "source": [
        "$$S = \\begin{Bmatrix} c_1 \\cdot\\begin{bmatrix} -2\\\\3 \\\\\\end{bmatrix}, \n",
        "c_2 \\cdot \\begin{bmatrix} 1\\\\-4 \\\\\\end{bmatrix}\\end{Bmatrix} $$"
      ],
      "metadata": {
        "id": "8lMANxN1rnDG"
      }
    },
    {
      "cell_type": "code",
      "source": [
        "vectA = np.array([-2,3])\n",
        "vectB = np.array([1,-4])\n",
        "\n",
        "R = np.arange(-5,5,1)\n",
        "\n",
        "c1, c2 = np.meshgrid(R,R)\n",
        "\n",
        "vectR = vectA + vectB\n",
        "spanRx = c1*vectA[0] + c2*vectB[0]\n",
        "spanRy = c1*vectA[1] + c2*vectB[1]\n",
        "plt.scatter(R*vectA[0],R*vectA[1])\n",
        "plt.scatter(R*vectB[0],R*vectB[1])\n",
        "plt.scatter(spanRx,spanRy, s=10, alpha=1)\n",
        "\n",
        "plt.axhline(y=0, color='k')\n",
        "plt.axvline(x=0, color='k')\n",
        "plt.grid()\n",
        "plt.show()"
      ],
      "metadata": {
        "id": "0msp5DH6uU5a"
      },
      "execution_count": null,
      "outputs": []
    },
    {
      "cell_type": "markdown",
      "source": [
        "## Task 1"
      ],
      "metadata": {
        "id": "45R6bhFL0iWi"
      }
    },
    {
      "cell_type": "code",
      "source": [
        "vectQ = np.array([4,2])\n",
        "vectW= np.array([8,6])\n",
        "\n",
        "R = np.arange(-5,5,0.75)\n",
        "\n",
        "c1, c2 = np.meshgrid(R,R)\n",
        "\n",
        "vectR = vectQ + vectW\n",
        "spanRx = c1*vectQ[0] + c2*vectW[0]\n",
        "spanRy = c1*vectQ[1] + c2*vectW[1]\n",
        "plt.scatter(R*vectQ[0],R*vectQ[1])\n",
        "plt.scatter(R*vectW[0],R*vectW[1])\n",
        "plt.scatter(spanRx,spanRy, s=10, alpha=.5)\n",
        "\n",
        "plt.axhline(y=0, color='k')\n",
        "plt.axvline(x=0, color='k')\n",
        "plt.grid()\n",
        "plt.show()"
      ],
      "metadata": {
        "colab": {
          "base_uri": "https://localhost:8080/",
          "height": 265
        },
        "id": "_vTKPljjnTX1",
        "outputId": "c9671973-0d0e-4b94-cd20-98d500d7e3f8"
      },
      "execution_count": 6,
      "outputs": [
        {
          "output_type": "display_data",
          "data": {
            "text/plain": [
              "<Figure size 432x288 with 1 Axes>"
            ],
            "image/png": "[encoded data removed]"
          },
          "metadata": {
            "needs_background": "light"
          }
        }
      ]
    },
    {
      "cell_type": "markdown",
      "source": [
        "$$S = \\begin{Bmatrix} c_1 \\cdot\\begin{bmatrix} 4\\\\2 \\\\\\end{bmatrix}, \n",
        "c_2 \\cdot \\begin{bmatrix} 8\\\\6 \\\\\\end{bmatrix}\\end{Bmatrix} $$"
      ],
      "metadata": {
        "id": "SaNlLONB0lGt"
      }
    },
    {
      "cell_type": "markdown",
      "source": [
        "$$ Q = 4\\hat{x} + 2\\hat{y} \\\\\n",
        "W = 8\\hat{x} + 6\\hat{y}$$"
      ],
      "metadata": {
        "id": "05eRfLBYyTUB"
      }
    }
  ]
}