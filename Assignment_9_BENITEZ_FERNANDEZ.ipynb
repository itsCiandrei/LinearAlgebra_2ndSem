{
  "nbformat": 4,
  "nbformat_minor": 0,
  "metadata": {
    "colab": {
      "name": "Assignment 9_BENITEZ_FERNANDEZ.ipynb",
      "provenance": [],
      "collapsed_sections": [],
      "authorship_tag": "ABX9TyNnbQfB8h1ymsBNs409azg2",
      "include_colab_link": true
    },
    "kernelspec": {
      "name": "python3",
      "display_name": "Python 3"
    },
    "language_info": {
      "name": "python"
    }
  },
  "cells": [
    {
      "cell_type": "markdown",
      "metadata": {
        "id": "view-in-github",
        "colab_type": "text"
      },
      "source": [
        "<a href=\"https://colab.research.google.com/github/itsCiandrei/LinearAlgebra_2ndSem/blob/main/Assignment_9_BENITEZ_FERNANDEZ.ipynb\" target=\"_parent\"><img src=\"https://colab.research.google.com/assets/colab-badge.svg\" alt=\"Open In Colab\"/></a>"
      ]
    },
    {
      "cell_type": "markdown",
      "source": [
        "\n",
        "# Lab 2 - Plotting Vector using NumPy and MatPlotLib"
      ],
      "metadata": {
        "id": "quy-HHzJVPao"
      }
    },
    {
      "cell_type": "markdown",
      "source": [
        "### Objectives\n",
        "At the end of this activity you will be able to:\n",
        "1. Be familiar with the libraries in Python for numerical and scientific programming.\n",
        "2. Visualize vectors through Python programming.\n",
        "3. Perform simple vector operations through code."
      ],
      "metadata": {
        "id": "S1x7NA21VT0C"
      }
    },
    {
      "cell_type": "markdown",
      "source": [
        "## Discussion"
      ],
      "metadata": {
        "id": "xf9C_xrGVXrq"
      }
    },
    {
      "cell_type": "markdown",
      "source": [
        "### NumPy"
      ],
      "metadata": {
        "id": "1aDGunqvVZmJ"
      }
    },
    {
      "cell_type": "markdown",
      "source": [
        "#####There is various arrays' purpose in utilizing the Python programming language, and some of these lists are slow to process. However, NumPy is much better and faster than any traditional Python list. Its objective is to provide an array of objects. In NumPy, the array is called \"ndarray\" and offers many supporting functions. In addition, it is also valuable in solving problems concerning different fields of mathematics such as linear algebra, Fourier transform, and matrices. Moreover, since NumPy's structure is more on the multidimensional array, it is beneficial in creating vectors, a single or one-dimensional array. Nevertheless, NumPy is one of Python's most fundamental programming libraries.\n",
        "\n",
        "\n",
        "\n"
      ],
      "metadata": {
        "id": "uHTMxWNlVgiU"
      }
    },
    {
      "cell_type": "markdown",
      "source": [
        "###Scalars"
      ],
      "metadata": {
        "id": "OFDRoPp3ZFfe"
      }
    },
    {
      "cell_type": "markdown",
      "source": [
        "These are the quantities that are described by a numerical value alone or known as magnitude."
      ],
      "metadata": {
        "id": "IuLn1xCGZL9E"
      }
    },
    {
      "cell_type": "markdown",
      "source": [
        "###Vectors"
      ],
      "metadata": {
        "id": "zBMB98DxZ4O8"
      }
    },
    {
      "cell_type": "markdown",
      "source": [
        "In contrast, vectors are quantities that are described by both magnitude and directions."
      ],
      "metadata": {
        "id": "bXJfKHg6Z6Yk"
      }
    },
    {
      "cell_type": "markdown",
      "source": [
        "###Representing Vectors"
      ],
      "metadata": {
        "id": "wZPmFYwhaaW9"
      }
    },
    {
      "cell_type": "markdown",
      "source": [
        "Vectors can be represented graphically: the length of the arrow corresponds to the magnitude of the vector while the arrow head corresponds to its direction. In terms of concept, this method is efficient. However, in terms of calculations, vectors can be represented as matrices but the variables are portrayed in terms of i-k-j-hat.\n",
        "\n",
        "Now that you know how to represent vectors using their component and matrix form we can now hard-code them in Python. Let's say that you have the vectors:"
      ],
      "metadata": {
        "id": "v5H-Z1RHael6"
      }
    },
    {
      "cell_type": "markdown",
      "source": [
        "$$ Q = 3\\hat{x} + \\hat{y} \\\\\n",
        "W = 12\\hat{x} - 7\\hat{y}\\\\\n",
        "E = -4ax + 2ay - 9az \\\\\n",
        "R = 3\\hat{i} - \\hat{j} + 5\\hat{k}$$"
      ],
      "metadata": {
        "id": "giT2IA8Ndc4l"
      }
    },
    {
      "cell_type": "markdown",
      "source": [
        "In which it's matrix equivalent is:"
      ],
      "metadata": {
        "id": "cdEe4QbVdw-L"
      }
    },
    {
      "cell_type": "markdown",
      "source": [
        "$$ Q = \\begin{bmatrix} 3 \\\\ 1\\end{bmatrix} , W = \\begin{bmatrix} 12 \\\\ -7\\end{bmatrix} , E = \\begin{bmatrix} -4 \\\\ 2 \\\\  -9 \\end{bmatrix}, R = \\begin{bmatrix} 3 \\\\ -1 \\\\ 5\\end{bmatrix}\n",
        "$$\n",
        "$$ Q = \\begin{bmatrix} 3 & 1\\end{bmatrix} , W = \\begin{bmatrix} 12 & -7\\end{bmatrix} , E = \\begin{bmatrix} -4 & 2 & -9\\end{bmatrix} , R = \\begin{bmatrix} 3 & -1 & 5\\end{bmatrix} \n",
        "$$"
      ],
      "metadata": {
        "id": "VqLOdMAPd2F9"
      }
    },
    {
      "cell_type": "markdown",
      "source": [
        "We can then start doing numpy code with this by:"
      ],
      "metadata": {
        "id": "tKXDhz26e1IT"
      }
    },
    {
      "cell_type": "code",
      "source": [
        "import numpy as np"
      ],
      "metadata": {
        "id": "Uxu2ARDufhKj"
      },
      "execution_count": null,
      "outputs": []
    },
    {
      "cell_type": "code",
      "source": [
        "Q = np.array([3, 1])\n",
        "W = np.array([12, -7])\n",
        "E = np.array([\n",
        "              [-4],\n",
        "              [2],\n",
        "              [-9]\n",
        "])\n",
        "R = np.array ([[3],\n",
        "              [-1],\n",
        "              [5]])\n",
        "print('Vector Q is ', Q)\n",
        "print('Vector W is ', W)\n",
        "print('Vector E is ', E)\n",
        "print('Vector R is ', R)"
      ],
      "metadata": {
        "id": "v1k9N9rJfpAV",
        "colab": {
          "base_uri": "https://localhost:8080/"
        },
        "outputId": "626119d1-1e8a-49fa-c05a-86d525528955"
      },
      "execution_count": null,
      "outputs": [
        {
          "output_type": "stream",
          "name": "stdout",
          "text": [
            "Vector Q is  [3 1]\n",
            "Vector W is  [12 -7]\n",
            "Vector E is  [[-4]\n",
            " [ 2]\n",
            " [-9]]\n",
            "Vector R is  [[ 3]\n",
            " [-1]\n",
            " [ 5]]\n"
          ]
        }
      ]
    },
    {
      "cell_type": "markdown",
      "source": [
        "#### Describing vectors in NumPy"
      ],
      "metadata": {
        "id": "R7R_fVfBhqLd"
      }
    },
    {
      "cell_type": "markdown",
      "source": [
        "In physics, vectors are mainly described using their magnitude and directions. However, in Python programming, the primary way to represent or describe a certain vector is through its size, shape, and dimensions. The size represents the total number of elements in one vector. On the other hand, the shape represents the number of elements in each column and row. Lastly, the dimension or also known as a rank of a vector, is the number of dimensions is there in a particular vector. Furthermore, these variables are essential in performing a mathematical operation of two or more vectors."
      ],
      "metadata": {
        "id": "2WpInoi_hu1w"
      }
    },
    {
      "cell_type": "code",
      "source": [
        "### Checking Shapes\n",
        "RJ = np.array([\n",
        "               [ 10, -2, 35, -3.2, -9],\n",
        "               [ 2, 1, -32, -3.22, -11]\n",
        "               ])\n",
        "RJ.shape"
      ],
      "metadata": {
        "id": "hCmaIm4mmBMG",
        "colab": {
          "base_uri": "https://localhost:8080/"
        },
        "outputId": "73561c18-93d5-4ede-ae60-9228a7b8f799"
      },
      "execution_count": null,
      "outputs": [
        {
          "output_type": "execute_result",
          "data": {
            "text/plain": [
              "(2, 5)"
            ]
          },
          "metadata": {},
          "execution_count": 6
        }
      ]
    },
    {
      "cell_type": "code",
      "source": [
        "JP = np.array([[ 10, -2, 35],\n",
        "              [2, -1, 3,],\n",
        "              [1, 7, 3]\n",
        "            ])\n",
        "JP.shape"
      ],
      "metadata": {
        "id": "Ja8QdQ2BnRwe",
        "colab": {
          "base_uri": "https://localhost:8080/"
        },
        "outputId": "496c1f05-3f07-42c1-e068-5ce22111dfd6"
      },
      "execution_count": null,
      "outputs": [
        {
          "output_type": "execute_result",
          "data": {
            "text/plain": [
              "(3, 3)"
            ]
          },
          "metadata": {},
          "execution_count": 34
        }
      ]
    },
    {
      "cell_type": "code",
      "source": [
        "### Checking Size\n",
        "RJ.size"
      ],
      "metadata": {
        "id": "QJoz2d1bnyIR",
        "colab": {
          "base_uri": "https://localhost:8080/"
        },
        "outputId": "317ebe79-4b18-4e1b-941e-e8537ed7c5af"
      },
      "execution_count": null,
      "outputs": [
        {
          "output_type": "execute_result",
          "data": {
            "text/plain": [
              "10"
            ]
          },
          "metadata": {},
          "execution_count": 28
        }
      ]
    },
    {
      "cell_type": "code",
      "source": [
        "JP.size"
      ],
      "metadata": {
        "id": "19sAmT_mqYsf",
        "colab": {
          "base_uri": "https://localhost:8080/"
        },
        "outputId": "af49145a-cf8c-4e83-cfb2-fdbb4027ebed"
      },
      "execution_count": null,
      "outputs": [
        {
          "output_type": "execute_result",
          "data": {
            "text/plain": [
              "9"
            ]
          },
          "metadata": {},
          "execution_count": 29
        }
      ]
    },
    {
      "cell_type": "code",
      "source": [
        "### Checking Dimensions\n",
        "RJ.ndim"
      ],
      "metadata": {
        "id": "8nADj1n1qfEt",
        "colab": {
          "base_uri": "https://localhost:8080/"
        },
        "outputId": "1f8d7e5d-3721-421f-cd52-9367923cff3b"
      },
      "execution_count": null,
      "outputs": [
        {
          "output_type": "execute_result",
          "data": {
            "text/plain": [
              "2"
            ]
          },
          "metadata": {},
          "execution_count": 33
        }
      ]
    },
    {
      "cell_type": "code",
      "source": [
        "JP.ndim"
      ],
      "metadata": {
        "id": "LKvzfXDGqjzZ",
        "colab": {
          "base_uri": "https://localhost:8080/"
        },
        "outputId": "8a7e2d0d-8383-48a1-d452-5a5d528a99c8"
      },
      "execution_count": null,
      "outputs": [
        {
          "output_type": "execute_result",
          "data": {
            "text/plain": [
              "2"
            ]
          },
          "metadata": {},
          "execution_count": 35
        }
      ]
    },
    {
      "cell_type": "markdown",
      "source": [
        "## Addition"
      ],
      "metadata": {
        "id": "NuACs-gerekh"
      }
    },
    {
      "cell_type": "markdown",
      "source": [
        "Performing an addition operation in two or more vectors is just like operating the \"Element-wise Multiplication\" in matrices. The element or coefficient having the same variable will just be added to get the final resultant for each component. For instance, if we have vector Q and W: "
      ],
      "metadata": {
        "id": "eIbi7aE_rjsB"
      }
    },
    {
      "cell_type": "markdown",
      "source": [
        "$$Q = 3\\hat{x} + \\hat{y}\\\\\n",
        "W = 12\\hat{x} - 7\\hat{y}\\\\\n",
        "E = -4ax + 2ay - 9az \\\\\n",
        "R = 3\\hat{i} - \\hat{j} + 5\\hat{k}$$"
      ],
      "metadata": {
        "id": "I5f1-1jtukdt"
      }
    },
    {
      "cell_type": "markdown",
      "source": [
        "The sum of these two vectors will be equal to resultant T:\n",
        "\n",
        "$$T = 15\\hat{x}-6\\hat{y} \\\\ \\\\or \\\\ \\\\ T = \\begin{bmatrix} 15 \\\\ -6\\end{bmatrix} $$\n"
      ],
      "metadata": {
        "id": "V6VlMEqmusS7"
      }
    },
    {
      "cell_type": "markdown",
      "source": [
        "So let's try to do that in NumPy in several number of ways:"
      ],
      "metadata": {
        "id": "sZxlyLZlvCXe"
      }
    },
    {
      "cell_type": "code",
      "source": [
        "### ADDITION\n",
        "A = np.add(Q,W)\n",
        "A"
      ],
      "metadata": {
        "id": "RSPJmUbutKlf",
        "colab": {
          "base_uri": "https://localhost:8080/"
        },
        "outputId": "0a47d2ed-351f-4f6b-f2e5-e06c72867c6f"
      },
      "execution_count": null,
      "outputs": [
        {
          "output_type": "execute_result",
          "data": {
            "text/plain": [
              "array([15, -6])"
            ]
          },
          "metadata": {},
          "execution_count": 36
        }
      ]
    },
    {
      "cell_type": "code",
      "source": [
        "B = np.add(E,R)\n",
        "B"
      ],
      "metadata": {
        "id": "_uZCwggYwMdm",
        "colab": {
          "base_uri": "https://localhost:8080/"
        },
        "outputId": "756b681b-fa52-41c0-f417-87bec4033148"
      },
      "execution_count": null,
      "outputs": [
        {
          "output_type": "execute_result",
          "data": {
            "text/plain": [
              "array([[45,  7],\n",
              "       [51, 13],\n",
              "       [40,  2]])"
            ]
          },
          "metadata": {},
          "execution_count": 37
        }
      ]
    },
    {
      "cell_type": "code",
      "source": [
        "### ADDITION\n",
        "A = Q + W\n",
        "A"
      ],
      "metadata": {
        "id": "3j_C9Ii0weoY",
        "colab": {
          "base_uri": "https://localhost:8080/"
        },
        "outputId": "870c3f60-44ea-41ad-f7b5-6d7725470eb0"
      },
      "execution_count": null,
      "outputs": [
        {
          "output_type": "execute_result",
          "data": {
            "text/plain": [
              "array([15, -6])"
            ]
          },
          "metadata": {},
          "execution_count": 38
        }
      ]
    },
    {
      "cell_type": "code",
      "source": [
        "B = E + R\n",
        "B"
      ],
      "metadata": {
        "id": "i8iTNr3Uwlfa",
        "colab": {
          "base_uri": "https://localhost:8080/"
        },
        "outputId": "be941755-42e3-425b-b6f1-94a1ba6562a0"
      },
      "execution_count": null,
      "outputs": [
        {
          "output_type": "execute_result",
          "data": {
            "text/plain": [
              "array([[45,  7],\n",
              "       [51, 13],\n",
              "       [40,  2]])"
            ]
          },
          "metadata": {},
          "execution_count": 39
        }
      ]
    },
    {
      "cell_type": "code",
      "source": [
        "### SUBTRACTION\n",
        "A1 = Q - W\n",
        "A1"
      ],
      "metadata": {
        "id": "yYodjsOywzXz",
        "colab": {
          "base_uri": "https://localhost:8080/"
        },
        "outputId": "f1624617-f9c0-4762-eda8-72f69bd4c8c2"
      },
      "execution_count": null,
      "outputs": [
        {
          "output_type": "execute_result",
          "data": {
            "text/plain": [
              "array([-9,  8])"
            ]
          },
          "metadata": {},
          "execution_count": 40
        }
      ]
    },
    {
      "cell_type": "code",
      "source": [
        "B1 = E - R\n",
        "B1"
      ],
      "metadata": {
        "id": "C6ZCKgt7xEcv",
        "colab": {
          "base_uri": "https://localhost:8080/"
        },
        "outputId": "2b4be59f-0737-4b09-ee62-60990d7d6d9d"
      },
      "execution_count": null,
      "outputs": [
        {
          "output_type": "execute_result",
          "data": {
            "text/plain": [
              "array([[-53, -15],\n",
              "       [-47,  -9],\n",
              "       [-58, -20]])"
            ]
          },
          "metadata": {},
          "execution_count": 41
        }
      ]
    },
    {
      "cell_type": "code",
      "source": [
        "### MULTIPLICATION\n",
        "A2 = Q * W\n",
        "A2"
      ],
      "metadata": {
        "id": "_UQK-VFoxJ_g",
        "colab": {
          "base_uri": "https://localhost:8080/"
        },
        "outputId": "5634c0bf-24bd-47cc-ad1d-d0ae94b5310c"
      },
      "execution_count": null,
      "outputs": [
        {
          "output_type": "execute_result",
          "data": {
            "text/plain": [
              "array([36, -7])"
            ]
          },
          "metadata": {},
          "execution_count": 42
        }
      ]
    },
    {
      "cell_type": "code",
      "source": [
        "B2 = E * R\n",
        "B2"
      ],
      "metadata": {
        "id": "WYKaJsKJxR1n",
        "colab": {
          "base_uri": "https://localhost:8080/"
        },
        "outputId": "43b7d1bf-cd78-4efc-a27a-5c22e977ccad"
      },
      "execution_count": null,
      "outputs": [
        {
          "output_type": "execute_result",
          "data": {
            "text/plain": [
              "array([[-196,  -44],\n",
              "       [  98,   22],\n",
              "       [-441,  -99]])"
            ]
          },
          "metadata": {},
          "execution_count": 43
        }
      ]
    },
    {
      "cell_type": "code",
      "source": [
        "### DIVISION\n",
        "A3 = Q / W\n",
        "A3"
      ],
      "metadata": {
        "id": "uHr47NumxmVK",
        "colab": {
          "base_uri": "https://localhost:8080/"
        },
        "outputId": "c8c8f2e1-bb96-4866-9a24-bd6bf8474c06"
      },
      "execution_count": null,
      "outputs": [
        {
          "output_type": "execute_result",
          "data": {
            "text/plain": [
              "array([ 0.25      , -0.14285714])"
            ]
          },
          "metadata": {},
          "execution_count": 44
        }
      ]
    },
    {
      "cell_type": "code",
      "source": [
        "B3 = E / R \n",
        "B3"
      ],
      "metadata": {
        "id": "6BWNcNqrxr7P",
        "colab": {
          "base_uri": "https://localhost:8080/"
        },
        "outputId": "d9ec524b-e01d-474e-b8d7-6ad411a31669"
      },
      "execution_count": null,
      "outputs": [
        {
          "output_type": "execute_result",
          "data": {
            "text/plain": [
              "array([[-0.08163265, -0.36363636],\n",
              "       [ 0.04081633,  0.18181818],\n",
              "       [-0.18367347, -0.81818182]])"
            ]
          },
          "metadata": {},
          "execution_count": 45
        }
      ]
    },
    {
      "cell_type": "markdown",
      "source": [
        "###Scaling"
      ],
      "metadata": {
        "id": "QG6baU5gFXRb"
      }
    },
    {
      "cell_type": "markdown",
      "source": [
        "#####Scaling is a transformation of an object that enlarges or diminishes it in terms of size. In matrix, scaling refers to the multiplication of all elements with the same number. "
      ],
      "metadata": {
        "id": "-_GLAuBoFY1R"
      }
    },
    {
      "cell_type": "markdown",
      "source": [
        "We can do this numpy through:"
      ],
      "metadata": {
        "id": "vF5hMo_GFeX1"
      }
    },
    {
      "cell_type": "code",
      "source": [
        "#P = 5 * Q\n",
        "P = np.multiply(5,Q)\n",
        "P"
      ],
      "metadata": {
        "colab": {
          "base_uri": "https://localhost:8080/"
        },
        "id": "6diU_8SKFhHB",
        "outputId": "a24fcf53-8a97-486a-be4d-96296f69802a"
      },
      "execution_count": null,
      "outputs": [
        {
          "output_type": "execute_result",
          "data": {
            "text/plain": [
              "array([15,  5])"
            ]
          },
          "metadata": {},
          "execution_count": 46
        }
      ]
    },
    {
      "cell_type": "code",
      "source": [
        "R = np.multiply(-3,E)\n",
        "R"
      ],
      "metadata": {
        "colab": {
          "base_uri": "https://localhost:8080/"
        },
        "id": "EJEzb_NaGBaz",
        "outputId": "41ae78db-92e1-4e57-faa5-ee33f99fc4ab"
      },
      "execution_count": null,
      "outputs": [
        {
          "output_type": "execute_result",
          "data": {
            "text/plain": [
              "array([[12],\n",
              "       [-6],\n",
              "       [27]])"
            ]
          },
          "metadata": {},
          "execution_count": 47
        }
      ]
    },
    {
      "cell_type": "code",
      "source": [
        "KJ = np.multiply(-7,R)\n",
        "KJ"
      ],
      "metadata": {
        "colab": {
          "base_uri": "https://localhost:8080/"
        },
        "id": "jDZpqThkGGlK",
        "outputId": "9238fadc-26d6-4d5b-865b-4900d5279ac7"
      },
      "execution_count": null,
      "outputs": [
        {
          "output_type": "execute_result",
          "data": {
            "text/plain": [
              "array([[ -84],\n",
              "       [  42],\n",
              "       [-189]])"
            ]
          },
          "metadata": {},
          "execution_count": 48
        }
      ]
    },
    {
      "cell_type": "markdown",
      "source": [
        "###MatPlotLib"
      ],
      "metadata": {
        "id": "j09xbvKAGrf5"
      }
    },
    {
      "cell_type": "markdown",
      "source": [
        "MatPlotLib is a python library that is used to plot, represent, and show visualization of matrices. MatPlotLib can be used in order to show graph that indicates several points or head to tail graphs. "
      ],
      "metadata": {
        "id": "yomddqYiGtg9"
      }
    },
    {
      "cell_type": "markdown",
      "source": [
        "###Visualizing Data"
      ],
      "metadata": {
        "id": "B8j1P2MXGy14"
      }
    },
    {
      "cell_type": "markdown",
      "source": [
        "Visualizing data shows how the following points is represented in a graph. In order to show the image, MatPlotLib is needed."
      ],
      "metadata": {
        "id": "cZNA4R6vG2aH"
      }
    },
    {
      "cell_type": "code",
      "source": [
        "import matplotlib.pyplot as plt\n",
        "import matplotlib\n",
        "%matplotlib inline"
      ],
      "metadata": {
        "id": "VLEZnOVSG5Ld"
      },
      "execution_count": null,
      "outputs": []
    },
    {
      "cell_type": "code",
      "source": [
        "X = [3, 7]\n",
        "Y = [-4, -2]\n",
        "plt.scatter(X[0], X[1], label='X', c='cyan')\n",
        "plt.scatter(Y[0], Y[1], label='Y', c='purple')\n",
        "plt.grid()\n",
        "plt.legend()\n",
        "plt.show()"
      ],
      "metadata": {
        "colab": {
          "base_uri": "https://localhost:8080/",
          "height": 265
        },
        "id": "jIItG1BuG7-e",
        "outputId": "f53d7bcc-83f2-4f5d-83e5-d3b8dbc71a02"
      },
      "execution_count": null,
      "outputs": [
        {
          "output_type": "display_data",
          "data": {
            "text/plain": [
              "<Figure size 432x288 with 1 Axes>"
            ],
            "image/png": "[encoded data removed]"
          },
          "metadata": {
            "needs_background": "light"
          }
        }
      ]
    },
    {
      "cell_type": "code",
      "source": [
        "X = np.array([3, 7])\n",
        "Y = np.array([-4, -2])\n",
        "plt.title(\"Resultant Vector\\nMagnitude:{}\" .format(Magnitude))\n",
        "plt.xlim(-10, 10)\n",
        "plt.ylim(-10, 10)\n",
        "plt.quiver(0, 0, X[0], X[1], angles='xy', scale_units='xy', scale=1, color='cyan')\n",
        "plt.quiver(X[0], X[1], Y[0], Y[1], angles='xy', scale_units='xy', scale=1, color='purple')\n",
        "R = X + Y\n",
        "plt.quiver(0, 0, R[0], R[1], angles='xy', scale_units='xy', scale=1, color='black')\n",
        "plt.grid()\n",
        "plt.show()\n",
        "print(R)\n",
        "Magnitude = np.sqrt(np.sum(R**2))\n",
        "print(Magnitude)\n",
        "Slope = R[1]/R[0]\n",
        "print(Slope)\n",
        "Angle = (np.arctan(Slope))*(180/np.pi)\n",
        "print(Angle)\n"
      ],
      "metadata": {
        "colab": {
          "base_uri": "https://localhost:8080/",
          "height": 369
        },
        "id": "XgGW_b3tHbm0",
        "outputId": "be386929-ea54-49b0-d4dd-e814f447f3ad"
      },
      "execution_count": null,
      "outputs": [
        {
          "output_type": "display_data",
          "data": {
            "text/plain": [
              "<Figure size 432x288 with 1 Axes>"
            ],
            "image/png": "[encoded data removed]"
          },
          "metadata": {
            "needs_background": "light"
          }
        },
        {
          "output_type": "stream",
          "name": "stdout",
          "text": [
            "[-1  5]\n",
            "5.0990195135927845\n",
            "-5.0\n",
            "-78.69006752597979\n"
          ]
        }
      ]
    },
    {
      "cell_type": "code",
      "source": [
        "n = X.shape[0]\n",
        "plt.xlim(-8, 8)\n",
        "plt.ylim(-8, 8)\n",
        "plt.quiver(0,0, X[0], X[1], angles='xy', scale_units='xy',scale=1)\n",
        "plt.quiver(X[0],X[1], Y[0], Y[1], angles='xy', scale_units='xy',scale=1)\n",
        "plt.quiver(0,0, R[0], R[1], angles='xy', scale_units='xy',scale=1)\n",
        "plt.show()"
      ],
      "metadata": {
        "colab": {
          "base_uri": "https://localhost:8080/",
          "height": 269
        },
        "id": "voS2HOQvIff6",
        "outputId": "9c788170-5b90-4120-c0d8-582dd7e02536"
      },
      "execution_count": null,
      "outputs": [
        {
          "output_type": "display_data",
          "data": {
            "text/plain": [
              "<Figure size 432x288 with 1 Axes>"
            ],
            "image/png": "[encoded data removed]"
          },
          "metadata": {
            "needs_background": "light"
          }
        }
      ]
    },
    {
      "cell_type": "markdown",
      "source": [
        "###TASK 1"
      ],
      "metadata": {
        "id": "AEdYqE2qJJ2a"
      }
    },
    {
      "cell_type": "code",
      "source": [
        "A = np.array([23, 0])\n",
        "B = np.array([12, 4])\n",
        "C = np.array ([14, 7])\n",
        "S = A + B\n",
        "R = A + B + C\n",
        "Magnitude = np.sqrt(np.sum(R**2))\n",
        "plt.title(\"Resultant Vector\\nMagnitude:{}\" .format(Magnitude))\n",
        "plt.xlim(-50, 50)\n",
        "plt.ylim(-50, 50)\n",
        "plt.quiver(0, 0, A[0], A[1], angles='xy', scale_units='xy', scale=1, color='brown')\n",
        "plt.quiver(A[0], A[1], B[0], B[1], angles='xy', scale_units='xy', scale=1, color='violet')\n",
        "plt.quiver( S[0], S[1], C[0], C[1], angles='xy', scale_units='xy', scale=1, color='grey')\n",
        "\n",
        "plt.quiver(0, 0, R[0], R[1], angles='xy', scale_units='xy', scale=1, color='black')\n",
        "plt.grid()\n",
        "plt.show()\n",
        "print(R)\n",
        "\n",
        "print(Magnitude)\n",
        "Slope = R[1]/R[0]\n",
        "print(Slope)\n",
        "Angle = (np.arctan(Slope))*(180/np.pi)\n",
        "print(Angle)"
      ],
      "metadata": {
        "colab": {
          "base_uri": "https://localhost:8080/",
          "height": 369
        },
        "id": "NwcB28S8JMOf",
        "outputId": "06b88375-dedc-4c47-e6eb-76a62483c954"
      },
      "execution_count": null,
      "outputs": [
        {
          "output_type": "display_data",
          "data": {
            "text/plain": [
              "<Figure size 432x288 with 1 Axes>"
            ],
            "image/png": "[encoded data removed]"
          },
          "metadata": {
            "needs_background": "light"
          }
        },
        {
          "output_type": "stream",
          "name": "stdout",
          "text": [
            "[49 11]\n",
            "50.21951811795888\n",
            "0.22448979591836735\n",
            "12.65255650055797\n"
          ]
        }
      ]
    }
  ]
}