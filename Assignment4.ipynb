{
  "nbformat": 4,
  "nbformat_minor": 0,
  "metadata": {
    "colab": {
      "name": "Assignment4.ipynb",
      "provenance": [],
      "collapsed_sections": [],
      "authorship_tag": "ABX9TyPka7Zp5mdO9b8irrDWuO+n",
      "include_colab_link": true
    },
    "kernelspec": {
      "name": "python3",
      "display_name": "Python 3"
    },
    "language_info": {
      "name": "python"
    }
  },
  "cells": [
    {
      "cell_type": "markdown",
      "metadata": {
        "id": "view-in-github",
        "colab_type": "text"
      },
      "source": [
        "<a href=\"https://colab.research.google.com/github/itsCiandrei/LinearAlgebra_2ndSem/blob/main/Assignment4.ipynb\" target=\"_parent\"><img src=\"https://colab.research.google.com/assets/colab-badge.svg\" alt=\"Open In Colab\"/></a>"
      ]
    },
    {
      "cell_type": "markdown",
      "source": [
        "##Linear Algebra for ChE\n",
        "\n",
        "Matrix Operations"
      ],
      "metadata": {
        "id": "5mQ5QtNr8WgJ"
      }
    },
    {
      "cell_type": "markdown",
      "source": [
        "##Laboratory 6: Matrix Operation"
      ],
      "metadata": {
        "id": "mIOV5WQbNIbV"
      }
    },
    {
      "cell_type": "markdown",
      "source": [
        "###Objectives\n",
        "At the end of this activity you will be able to:\n",
        "\n",
        "1.)Be familiar with the fundamental matrix operations.\n",
        "\n",
        "2.)Apply the operations to solve intemrediate equations.\n",
        "\n",
        "3.)Apply matrix algebra in engineering solutions."
      ],
      "metadata": {
        "id": "VWPrZsXuNQSX"
      }
    },
    {
      "cell_type": "markdown",
      "source": [
        "##Discussion"
      ],
      "metadata": {
        "id": "VvZyQGCvNXr3"
      }
    },
    {
      "cell_type": "code",
      "source": [
        "import numpy as np\n",
        "import matplotlib.pyplot as plt\n",
        "%matplotlib inline\n"
      ],
      "metadata": {
        "id": "bZKajtEZ8fN4"
      },
      "execution_count": 1,
      "outputs": []
    },
    {
      "cell_type": "markdown",
      "source": [
        "#Transposition\n",
        "Transposition is one of the mostly used operations in matrix. Its function is to convert the rows of the matrix into columns. For example, the transpose of the B matrix is: \n",
        "\n",
        "$$\n",
        "B=\\begin{bmatrix} 11 & -2 & 95 \\\\-5 & -11 & 20 \\\\ 30 & -13 & 73\\end{bmatrix}\\\\\n",
        "$$\n",
        "\n",
        "$$\n",
        "B^T=\\begin{bmatrix} 11 & -5 & 30 \\\\-2 & -11 & -13 \\\\ 95 & 20 & 73\\end{bmatrix}\\\\\n",
        "$$\n",
        "\n",
        "This can also be applied in a program by using the command `np.transpose` or by using the T method"
      ],
      "metadata": {
        "id": "EvvDFkBJ9q10"
      }
    },
    {
      "cell_type": "code",
      "source": [
        "A = np.array([\n",
        "              [2,3,4],\n",
        "              [5,3,2],\n",
        "              [7,9,3]\n",
        "])\n",
        "A"
      ],
      "metadata": {
        "colab": {
          "base_uri": "https://localhost:8080/"
        },
        "id": "Mf-nYWfQ9tgj",
        "outputId": "5ad3b216-daa9-4841-c010-557fd6cdf619"
      },
      "execution_count": 2,
      "outputs": [
        {
          "output_type": "execute_result",
          "data": {
            "text/plain": [
              "array([[2, 3, 4],\n",
              "       [5, 3, 2],\n",
              "       [7, 9, 3]])"
            ]
          },
          "metadata": {},
          "execution_count": 2
        }
      ]
    },
    {
      "cell_type": "code",
      "source": [
        "AE = np.transpose(A)\n",
        "AE"
      ],
      "metadata": {
        "colab": {
          "base_uri": "https://localhost:8080/"
        },
        "id": "TDA_u41799Gf",
        "outputId": "799ee58c-6d44-4822-96a0-4b991c158aa4"
      },
      "execution_count": 3,
      "outputs": [
        {
          "output_type": "execute_result",
          "data": {
            "text/plain": [
              "array([[2, 5, 7],\n",
              "       [3, 3, 9],\n",
              "       [4, 2, 3]])"
            ]
          },
          "metadata": {},
          "execution_count": 3
        }
      ]
    },
    {
      "cell_type": "code",
      "source": [
        "H = A.T\n",
        "H"
      ],
      "metadata": {
        "colab": {
          "base_uri": "https://localhost:8080/"
        },
        "id": "yNwTAf1m-nK7",
        "outputId": "f8a0d403-f257-48b5-94ec-ac989d547838"
      },
      "execution_count": 4,
      "outputs": [
        {
          "output_type": "execute_result",
          "data": {
            "text/plain": [
              "array([[2, 5, 7],\n",
              "       [3, 3, 9],\n",
              "       [4, 2, 3]])"
            ]
          },
          "metadata": {},
          "execution_count": 4
        }
      ]
    },
    {
      "cell_type": "code",
      "source": [
        "np.array_equiv(AE,H)"
      ],
      "metadata": {
        "colab": {
          "base_uri": "https://localhost:8080/"
        },
        "id": "JnqgC56-_FEs",
        "outputId": "9ce215a9-7014-48b6-beab-e774e0b9f574"
      },
      "execution_count": 5,
      "outputs": [
        {
          "output_type": "execute_result",
          "data": {
            "text/plain": [
              "True"
            ]
          },
          "metadata": {},
          "execution_count": 5
        }
      ]
    },
    {
      "cell_type": "code",
      "source": [
        "H.T.shape"
      ],
      "metadata": {
        "colab": {
          "base_uri": "https://localhost:8080/"
        },
        "id": "6f1_SaF-_J2p",
        "outputId": "30abd0f0-e5e1-408c-d8ca-40c4adcc33e8"
      },
      "execution_count": 6,
      "outputs": [
        {
          "output_type": "execute_result",
          "data": {
            "text/plain": [
              "(3, 3)"
            ]
          },
          "metadata": {},
          "execution_count": 6
        }
      ]
    },
    {
      "cell_type": "code",
      "source": [
        "P = np. array ([\n",
        "                [9,2,3,11],\n",
        "                [21,3,6,7],\n",
        "                [3,4,5,0]\n",
        "])\n",
        "JP = np.transpose(P)\n",
        "JP"
      ],
      "metadata": {
        "colab": {
          "base_uri": "https://localhost:8080/"
        },
        "id": "gdQGc8dn_MQ7",
        "outputId": "40d23d16-1111-497f-8db3-1e6507dcd026"
      },
      "execution_count": 7,
      "outputs": [
        {
          "output_type": "execute_result",
          "data": {
            "text/plain": [
              "array([[ 9, 21,  3],\n",
              "       [ 2,  3,  4],\n",
              "       [ 3,  6,  5],\n",
              "       [11,  7,  0]])"
            ]
          },
          "metadata": {},
          "execution_count": 7
        }
      ]
    },
    {
      "cell_type": "code",
      "source": [
        "PJ = P.T\n",
        "PJ"
      ],
      "metadata": {
        "colab": {
          "base_uri": "https://localhost:8080/"
        },
        "id": "mZn_ug-F_jGK",
        "outputId": "bb2a2b88-0572-4395-e830-eb36b7cf3f7d"
      },
      "execution_count": 8,
      "outputs": [
        {
          "output_type": "execute_result",
          "data": {
            "text/plain": [
              "array([[ 9, 21,  3],\n",
              "       [ 2,  3,  4],\n",
              "       [ 3,  6,  5],\n",
              "       [11,  7,  0]])"
            ]
          },
          "metadata": {},
          "execution_count": 8
        }
      ]
    },
    {
      "cell_type": "code",
      "source": [
        "np.array_equiv(JP,PJ)"
      ],
      "metadata": {
        "colab": {
          "base_uri": "https://localhost:8080/"
        },
        "id": "cbCMldFy_2Vy",
        "outputId": "c25fb7fd-1591-4a6c-8cf6-af7b630851e1"
      },
      "execution_count": 9,
      "outputs": [
        {
          "output_type": "execute_result",
          "data": {
            "text/plain": [
              "True"
            ]
          },
          "metadata": {},
          "execution_count": 9
        }
      ]
    },
    {
      "cell_type": "code",
      "source": [
        "P.T.shape"
      ],
      "metadata": {
        "colab": {
          "base_uri": "https://localhost:8080/"
        },
        "id": "fCBZDgqRN2oz",
        "outputId": "a520b534-9f0e-477d-e4e2-eb9448917f8f"
      },
      "execution_count": 10,
      "outputs": [
        {
          "output_type": "execute_result",
          "data": {
            "text/plain": [
              "(4, 3)"
            ]
          },
          "metadata": {},
          "execution_count": 10
        }
      ]
    },
    {
      "cell_type": "markdown",
      "source": [
        "$$\n",
        "A = \n",
        "    \\begin{bmatrix}\n",
        "        x & y \\\\ \n",
        "        4x & 10y\n",
        "    \\end{bmatrix}\n",
        " $$\n"
      ],
      "metadata": {
        "id": "_b-oFapmN-de"
      }
    },
    {
      "cell_type": "markdown",
      "source": [
        "$$\n",
        "B=\\begin{bmatrix} 1 & 2 & 5 \\\\5 & -1 & 0 \\\\ 0 & -3 & 3\\end{bmatrix}\\\\\n",
        "$$"
      ],
      "metadata": {
        "id": "1HKwYvCSODjk"
      }
    },
    {
      "cell_type": "markdown",
      "source": [
        "##Dot Product"
      ],
      "metadata": {
        "id": "iJRhMOR7AdG2"
      }
    },
    {
      "cell_type": "markdown",
      "source": [
        "If you recall the dot product from laboratory activity before, we will try to implement the same operation with matrices. In matrix dot product we are going to get the sum of products of the vectors by row-column pairs. So if we have two matrices $X$ and $Y$:\n",
        "\n",
        "$$X = \\begin{bmatrix}x_{(0,0)}&x_{(0,1)}\\\\ x_{(1,0)}&x_{(1,1)}\\end{bmatrix}, Y = \\begin{bmatrix}y_{(0,0)}&y_{(0,1)}\\\\ y_{(1,0)}&y_{(1,1)}\\end{bmatrix}$$\n",
        "\n",
        "The dot product will then be computed as:\n",
        "$$X \\cdot Y= \\begin{bmatrix} x_{(0,0)}*y_{(0,0)} + x_{(0,1)}*y_{(1,0)} & x_{(0,0)}*y_{(0,1)} + x_{(0,1)}*y_{(1,1)} \\\\  x_{(1,0)}*y_{(0,0)} + x_{(1,1)}*y_{(1,0)} & x_{(1,0)}*y_{(0,1)} + x_{(1,1)}*y_{(1,1)}\n",
        "\\end{bmatrix}$$\n",
        "\n",
        "\n",
        "Dot product of matrices is where we multiply the rows of the fist matrix to the columns of the second matrix. The formula goes as follows for matrix A and B.\n",
        "\n",
        "$$\n",
        "A=\\begin{bmatrix} 1 & 2 \\\\5 & -1 \\end{bmatrix}\\\\\n",
        "$$\n",
        "\n",
        "$$\n",
        "B=\\begin{bmatrix} 2 & 6 \\\\3 & -4 \\end{bmatrix}\\\\\n",
        "$$\n",
        "\n",
        "The dot product of A and B is equal to:\n",
        "\n",
        "$$\n",
        "AB=\\begin{bmatrix} (1)(2) + (2)(3) & (1)(6) + (2)(-4)\\\\ (5)(2) + (-1)(3) & (5)(6) + (-1)(-4)\\end{bmatrix}\\\\\n",
        "$$\n",
        "\n",
        "$$\n",
        "AB=\\begin{bmatrix} 8 & -2\\\\ 7 & 34\\end{bmatrix}\\\\\n",
        "$$\n",
        "\n",
        "The solution can be used in a python program by using `np.dot()`, `np.matmul()`, and `@` operator.\n"
      ],
      "metadata": {
        "id": "AGTHVM8LOG0Q"
      }
    },
    {
      "cell_type": "code",
      "source": [
        "A = np.array([\n",
        "              [1,2],\n",
        "              [5,-1]\n",
        "])\n",
        "B = np.array([\n",
        "              [2,6],\n",
        "              [3,-4]\n",
        "])"
      ],
      "metadata": {
        "id": "noF_BCikAplc"
      },
      "execution_count": 12,
      "outputs": []
    },
    {
      "cell_type": "code",
      "source": [
        "A @ B"
      ],
      "metadata": {
        "colab": {
          "base_uri": "https://localhost:8080/"
        },
        "id": "iJcQvGFvBXoX",
        "outputId": "28248cc5-f9d3-4bdb-a228-f82dcb4bdc93"
      },
      "execution_count": 13,
      "outputs": [
        {
          "output_type": "execute_result",
          "data": {
            "text/plain": [
              "array([[ 8, -2],\n",
              "       [ 7, 34]])"
            ]
          },
          "metadata": {},
          "execution_count": 13
        }
      ]
    },
    {
      "cell_type": "code",
      "source": [
        "A.dot (B)"
      ],
      "metadata": {
        "colab": {
          "base_uri": "https://localhost:8080/"
        },
        "id": "ej1Uz-pnBcy-",
        "outputId": "4c2c4af1-d72c-4b33-f54d-21ddb7410b62"
      },
      "execution_count": 14,
      "outputs": [
        {
          "output_type": "execute_result",
          "data": {
            "text/plain": [
              "array([[ 8, -2],\n",
              "       [ 7, 34]])"
            ]
          },
          "metadata": {},
          "execution_count": 14
        }
      ]
    },
    {
      "cell_type": "code",
      "source": [
        "np.matmul(A,B)"
      ],
      "metadata": {
        "colab": {
          "base_uri": "https://localhost:8080/"
        },
        "id": "Z_CLdDSJBjIl",
        "outputId": "c422eafd-41c5-4604-eb05-9551ce545a03"
      },
      "execution_count": 15,
      "outputs": [
        {
          "output_type": "execute_result",
          "data": {
            "text/plain": [
              "array([[ 8, -2],\n",
              "       [ 7, 34]])"
            ]
          },
          "metadata": {},
          "execution_count": 15
        }
      ]
    },
    {
      "cell_type": "code",
      "source": [
        "np.dot(A,B)"
      ],
      "metadata": {
        "colab": {
          "base_uri": "https://localhost:8080/"
        },
        "id": "oyjgyc0LOWz7",
        "outputId": "49092b2f-3107-4e9b-c39d-a7b6239f6762"
      },
      "execution_count": 16,
      "outputs": [
        {
          "output_type": "execute_result",
          "data": {
            "text/plain": [
              "array([[ 8, -2],\n",
              "       [ 7, 34]])"
            ]
          },
          "metadata": {},
          "execution_count": 16
        }
      ]
    },
    {
      "cell_type": "markdown",
      "source": [
        "#####In matrix dot products there are additional rules compared with vector dot products. Since vector dot products were just in one dimension there are less restrictions. Since now we are dealing with Rank 2 vectors we need to consider some rules:\n",
        "\n",
        "\n",
        "#Rule 1: The inner dimensions of the two matrix must be equal.\n",
        "We determine the dimension of the product by checking if it is possible. For example, a (A x B) matrix multiplied by a (B x A) the product matrix will have a (A x A) matrix. This happens because the first dimension of the first matrix and the last dimension of the second matrix determines the dimension of the product if and only if they have the same inside dimension. For example:\n"
      ],
      "metadata": {
        "id": "5oRniXQtDROJ"
      }
    },
    {
      "cell_type": "markdown",
      "source": [
        "$$\n",
        "RJ=\\begin{bmatrix} 9 & -8 & 3 \\\\76 & -23 & -12 \\\\ 3 & 1 & 21\\\\1 & 1 & 1\\end{bmatrix}\\\\\n",
        "$$\n",
        "\n",
        "$$\n",
        "B=\\begin{bmatrix} 5 & -8 & -93 \\\\-16 & -2 & -2 \\\\ 23 & -21 & 1\\end{bmatrix}\\\\\n",
        "$$\n",
        "$$\n",
        "T=\\begin{bmatrix} 1 & -2 & 22\\\\6 & -3 & 20\\end{bmatrix}\\\\\n",
        "$$\n",
        "\n",
        "The P matrix has a dimension of (4 x 3) and the B matrix has a dimension of (3 x 3) and lastly, the T matrix has a dimension of (4 x 3). The only possible dot product would be $T \\cdot B$ and $P \\cdot B$   \n",
        "\n",
        "\n"
      ],
      "metadata": {
        "id": "kM0Z9WQ7OdPT"
      }
    },
    {
      "cell_type": "code",
      "source": [
        "RJ = np.array([\n",
        "               [9,-8,3],\n",
        "               [76,-23,-12],\n",
        "               [3,1,21],\n",
        "               [1,1,1]\n",
        "])\n",
        "CD = np.array([\n",
        "               [5,-8,-93],\n",
        "               [-16,-2,-2],\n",
        "               [23,-21,1],\n",
        "         \n",
        "])\n",
        "LA = np.array([\n",
        "               [1,-2,22],\n",
        "               [6,-3,-20],\n",
        "              \n",
        "])\n",
        "print(RJ.shape)\n",
        "print(CD.shape)\n",
        "print(LA.shape)"
      ],
      "metadata": {
        "id": "2IZpjkdqDXaA"
      },
      "execution_count": 17,
      "outputs": []
    },
    {
      "cell_type": "code",
      "source": [
        "RJ @ CD"
      ],
      "metadata": {
        "id": "KJeVVL0EFOne"
      },
      "execution_count": null,
      "outputs": []
    },
    {
      "cell_type": "code",
      "source": [
        "LA @ CD"
      ],
      "metadata": {
        "id": "eg5v2wELFXV6"
      },
      "execution_count": null,
      "outputs": []
    },
    {
      "cell_type": "code",
      "source": [
        "RJ @ LA.T"
      ],
      "metadata": {
        "id": "y6GDm_CaF5IK"
      },
      "execution_count": null,
      "outputs": []
    },
    {
      "cell_type": "code",
      "source": [
        "CD @ RJ.T"
      ],
      "metadata": {
        "id": "P5Pl1I1wGHRY"
      },
      "execution_count": null,
      "outputs": []
    },
    {
      "cell_type": "markdown",
      "source": [
        "###Rule 2: Dot Product has special properties"
      ],
      "metadata": {
        "id": "9JkRvEl-GTmQ"
      }
    },
    {
      "cell_type": "markdown",
      "source": [
        "#####In the field of data science domain, linear algebra is one of the essential topics, which includes the basic operations in solving matrices: Dot product and matrix multiplication. The Dot product of two matrices is the sum of its elements' products relative to its position; column and rows. \n",
        "\n",
        "This basic operation has its own properties, and it should take into consideration when formulating a particular solution:\n",
        "1. $A \\cdot B \\neq B \\cdot A$ - Noncommutative Property of Multiplication of matrices\n",
        "2. $A \\cdot (B \\cdot C) = (A \\cdot B) \\cdot C$ - Associative Property of Multiplcation of martices\n",
        "3. $A\\cdot(B+C) = A\\cdot B + A\\cdot C$ - Distributive Property of Addition of matrices\n",
        "4. $(B+C)\\cdot A = B\\cdot A + C\\cdot A$ - Distributive Property of Addition of matrices\n",
        "5. $A\\cdot I = A$ - Multiplicative Identity Property\n",
        "6. $A\\cdot \\emptyset = \\emptyset$ - Multiplicative Property of Zero\n"
      ],
      "metadata": {
        "id": "eedsvBTFGcAt"
      }
    },
    {
      "cell_type": "code",
      "source": [
        "a = np.array([\n",
        "              [1,0,-6],\n",
        "              [3,27,81],\n",
        "              [4,25,-36]\n",
        "])\n",
        "b = np.array([\n",
        "              [-21,20,-26],\n",
        "              [13,7,24],\n",
        "              [5,6,-6]\n",
        "])\n",
        "c = np.array([\n",
        "              [-3,11,-13],\n",
        "              [31,17,-2],\n",
        "              [15,-6,-98]\n",
        "])"
      ],
      "metadata": {
        "id": "zpRQuzWUHiY7"
      },
      "execution_count": null,
      "outputs": []
    },
    {
      "cell_type": "code",
      "source": [
        "A1 = a@b\n",
        "A2 = b@c\n",
        "B1 = b + c"
      ],
      "metadata": {
        "id": "X1HWHrBfIzkl"
      },
      "execution_count": null,
      "outputs": []
    },
    {
      "cell_type": "code",
      "source": [
        "##1st Property\n",
        "np.array_equiv(a@b, b@a)"
      ],
      "metadata": {
        "colab": {
          "base_uri": "https://localhost:8080/"
        },
        "id": "O4AHySSZILGr",
        "outputId": "e75136a8-ddaa-47f8-8cc9-f58f86df117c"
      },
      "execution_count": null,
      "outputs": [
        {
          "output_type": "execute_result",
          "data": {
            "text/plain": [
              "False"
            ]
          },
          "metadata": {},
          "execution_count": 14
        }
      ]
    },
    {
      "cell_type": "code",
      "source": [
        "a@b "
      ],
      "metadata": {
        "colab": {
          "base_uri": "https://localhost:8080/"
        },
        "id": "LQ3ratpjDvt_",
        "outputId": "f0a1074b-386d-4dff-df6c-feacd092621b"
      },
      "execution_count": null,
      "outputs": [
        {
          "output_type": "execute_result",
          "data": {
            "text/plain": [
              "array([[-51, -16,  10],\n",
              "       [693, 735,  84],\n",
              "       [ 61,  39, 712]])"
            ]
          },
          "metadata": {},
          "execution_count": 15
        }
      ]
    },
    {
      "cell_type": "code",
      "source": [
        "b@a"
      ],
      "metadata": {
        "colab": {
          "base_uri": "https://localhost:8080/"
        },
        "id": "FpESLLvxD_p8",
        "outputId": "badf2f67-83b7-4da8-c591-47059ecf7924"
      },
      "execution_count": null,
      "outputs": [
        {
          "output_type": "execute_result",
          "data": {
            "text/plain": [
              "array([[ -65, -110, 2682],\n",
              "       [ 130,  789, -375],\n",
              "       [  -1,   12,  672]])"
            ]
          },
          "metadata": {},
          "execution_count": 16
        }
      ]
    },
    {
      "cell_type": "code",
      "source": [
        "##2nd Property\n",
        "np.array_equiv(a@A2, A1@c)"
      ],
      "metadata": {
        "colab": {
          "base_uri": "https://localhost:8080/"
        },
        "id": "l5tK44bbJXCe",
        "outputId": "b2dfe046-8560-4174-f21b-f841a8a73598"
      },
      "execution_count": null,
      "outputs": [
        {
          "output_type": "execute_result",
          "data": {
            "text/plain": [
              "True"
            ]
          },
          "metadata": {},
          "execution_count": 17
        }
      ]
    },
    {
      "cell_type": "code",
      "source": [
        "a@A2"
      ],
      "metadata": {
        "colab": {
          "base_uri": "https://localhost:8080/"
        },
        "id": "s0WAvPhjPCv_",
        "outputId": "dc3cc84e-9a26-4c10-cf9c-7edc00b96821"
      },
      "execution_count": null,
      "outputs": [
        {
          "output_type": "execute_result",
          "data": {
            "text/plain": [
              "array([[  -193,   -893,   -285],\n",
              "       [ 21966,  19614, -18711],\n",
              "       [ 11706,  -2938, -70647]])"
            ]
          },
          "metadata": {},
          "execution_count": 18
        }
      ]
    },
    {
      "cell_type": "code",
      "source": [
        "A1@c"
      ],
      "metadata": {
        "id": "ob-9Mhb7PJ8E",
        "outputId": "70cc16ed-5662-4470-f87a-73909e8a6c83",
        "colab": {
          "base_uri": "https://localhost:8080/"
        }
      },
      "execution_count": null,
      "outputs": [
        {
          "output_type": "execute_result",
          "data": {
            "text/plain": [
              "array([[  -193,   -893,   -285],\n",
              "       [ 21966,  19614, -18711],\n",
              "       [ 11706,  -2938, -70647]])"
            ]
          },
          "metadata": {},
          "execution_count": 19
        }
      ]
    },
    {
      "cell_type": "code",
      "source": [
        "##3rd Property\n",
        "np.array_equiv(a@B1, a@b+a@c)"
      ],
      "metadata": {
        "colab": {
          "base_uri": "https://localhost:8080/"
        },
        "id": "DQ_r7VFEJqiM",
        "outputId": "27a9b4df-68aa-45f5-cf00-d624e7e7baa1"
      },
      "execution_count": null,
      "outputs": [
        {
          "output_type": "execute_result",
          "data": {
            "text/plain": [
              "True"
            ]
          },
          "metadata": {},
          "execution_count": 20
        }
      ]
    },
    {
      "cell_type": "code",
      "source": [
        "a@B1"
      ],
      "metadata": {
        "colab": {
          "base_uri": "https://localhost:8080/"
        },
        "id": "uwrCRdtuoHbF",
        "outputId": "d9ec9fd9-9112-4245-a7e7-4debd60efd20"
      },
      "execution_count": null,
      "outputs": [
        {
          "output_type": "execute_result",
          "data": {
            "text/plain": [
              "array([[ -144,    31,   585],\n",
              "       [ 2736,   741, -7947],\n",
              "       [  284,   724,  4138]])"
            ]
          },
          "metadata": {},
          "execution_count": 21
        }
      ]
    },
    {
      "cell_type": "code",
      "source": [
        "a@b+a@c"
      ],
      "metadata": {
        "colab": {
          "base_uri": "https://localhost:8080/"
        },
        "id": "cK997qTxoVFR",
        "outputId": "03cc4d75-a7f4-42b2-ea2f-4a47232d582e"
      },
      "execution_count": null,
      "outputs": [
        {
          "output_type": "execute_result",
          "data": {
            "text/plain": [
              "array([[ -144,    31,   585],\n",
              "       [ 2736,   741, -7947],\n",
              "       [  284,   724,  4138]])"
            ]
          },
          "metadata": {},
          "execution_count": 22
        }
      ]
    },
    {
      "cell_type": "code",
      "source": [
        "##4th Property\n",
        "np.array_equiv(B1@a, b@a+c@a)"
      ],
      "metadata": {
        "id": "0r-xm-o1Kqjf",
        "colab": {
          "base_uri": "https://localhost:8080/"
        },
        "outputId": "c03fe525-5eee-4b4d-ebef-d14d79ea8896"
      },
      "execution_count": null,
      "outputs": [
        {
          "output_type": "execute_result",
          "data": {
            "text/plain": [
              "True"
            ]
          },
          "metadata": {},
          "execution_count": 23
        }
      ]
    },
    {
      "cell_type": "code",
      "source": [
        "B1@a"
      ],
      "metadata": {
        "colab": {
          "base_uri": "https://localhost:8080/"
        },
        "id": "C5qBP3FVtjbC",
        "outputId": "2670365b-fe79-4f85-de77-ebb268f8fb89"
      },
      "execution_count": null,
      "outputs": [
        {
          "output_type": "execute_result",
          "data": {
            "text/plain": [
              "array([[  -87,  -138,  4059],\n",
              "       [  204,  1198,   888],\n",
              "       [ -396, -2600,  3624]])"
            ]
          },
          "metadata": {},
          "execution_count": 24
        }
      ]
    },
    {
      "cell_type": "code",
      "source": [
        "b@a+c@a"
      ],
      "metadata": {
        "colab": {
          "base_uri": "https://localhost:8080/"
        },
        "id": "NRB4WWHstmVL",
        "outputId": "ba160ef1-6284-4afe-c6f0-80f0b3845688"
      },
      "execution_count": null,
      "outputs": [
        {
          "output_type": "execute_result",
          "data": {
            "text/plain": [
              "array([[  -87,  -138,  4059],\n",
              "       [  204,  1198,   888],\n",
              "       [ -396, -2600,  3624]])"
            ]
          },
          "metadata": {},
          "execution_count": 25
        }
      ]
    },
    {
      "cell_type": "code",
      "source": [
        "##5th Property\n",
        "np.array_equiv(a@np.eye(3,3), a)"
      ],
      "metadata": {
        "colab": {
          "base_uri": "https://localhost:8080/"
        },
        "id": "UkVsfaI9lz7M",
        "outputId": "95606328-85d0-47aa-dd4c-99ea846492ad"
      },
      "execution_count": null,
      "outputs": [
        {
          "output_type": "execute_result",
          "data": {
            "text/plain": [
              "True"
            ]
          },
          "metadata": {},
          "execution_count": 26
        }
      ]
    },
    {
      "cell_type": "code",
      "source": [
        "a@np.eye(3,3)"
      ],
      "metadata": {
        "colab": {
          "base_uri": "https://localhost:8080/"
        },
        "id": "v89dOseBuO2_",
        "outputId": "1149fc9c-a9b7-4927-a9b4-dc4cc637c826"
      },
      "execution_count": null,
      "outputs": [
        {
          "output_type": "execute_result",
          "data": {
            "text/plain": [
              "array([[  1.,   0.,  -6.],\n",
              "       [  3.,  27.,  81.],\n",
              "       [  4.,  25., -36.]])"
            ]
          },
          "metadata": {},
          "execution_count": 27
        }
      ]
    },
    {
      "cell_type": "code",
      "source": [
        "a"
      ],
      "metadata": {
        "colab": {
          "base_uri": "https://localhost:8080/"
        },
        "id": "KIXWroi4uTnT",
        "outputId": "ca139728-3ccc-4818-89e0-931030ee1b56"
      },
      "execution_count": null,
      "outputs": [
        {
          "output_type": "execute_result",
          "data": {
            "text/plain": [
              "array([[  1,   0,  -6],\n",
              "       [  3,  27,  81],\n",
              "       [  4,  25, -36]])"
            ]
          },
          "metadata": {},
          "execution_count": 28
        }
      ]
    },
    {
      "cell_type": "code",
      "source": [
        "##6th Property\n",
        "np.array_equiv(a@np.zeros(a.shape), np.zeros(a.shape))"
      ],
      "metadata": {
        "id": "xcWC6kXfmJEl"
      },
      "execution_count": null,
      "outputs": []
    },
    {
      "cell_type": "code",
      "source": [
        "a@np.zeros(a.shape)"
      ],
      "metadata": {
        "id": "HOpQrUmbmLNY",
        "colab": {
          "base_uri": "https://localhost:8080/"
        },
        "outputId": "85b8aeb9-5ca1-418f-d126-a09d0b503c64"
      },
      "execution_count": null,
      "outputs": [
        {
          "output_type": "execute_result",
          "data": {
            "text/plain": [
              "array([[0., 0., 0.],\n",
              "       [0., 0., 0.],\n",
              "       [0., 0., 0.]])"
            ]
          },
          "metadata": {},
          "execution_count": 29
        }
      ]
    },
    {
      "cell_type": "code",
      "source": [
        "np.zeros(a.shape)"
      ],
      "metadata": {
        "colab": {
          "base_uri": "https://localhost:8080/"
        },
        "id": "z3ew61kVubp6",
        "outputId": "cb565bab-2154-46d2-f0f3-aab09fbd164c"
      },
      "execution_count": null,
      "outputs": [
        {
          "output_type": "execute_result",
          "data": {
            "text/plain": [
              "array([[0., 0., 0.],\n",
              "       [0., 0., 0.],\n",
              "       [0., 0., 0.]])"
            ]
          },
          "metadata": {},
          "execution_count": 30
        }
      ]
    },
    {
      "cell_type": "markdown",
      "source": [
        "###Determinant"
      ],
      "metadata": {
        "id": "qLjAuXqMGbTp"
      }
    },
    {
      "cell_type": "code",
      "source": [
        ""
      ],
      "metadata": {
        "id": "DuBHPmlzug9C"
      },
      "execution_count": null,
      "outputs": []
    },
    {
      "cell_type": "markdown",
      "source": [
        "\n",
        "In linear algebra, determinants are mainly used to solve a series of linear equations by applying the concept of Cramer's rule to a set of non-homogeneous equations. To determine the determinants of a certain matrix, one of the requirements is that the sample matrices should be a square matrix. Moreover, there are three types of determinants, first is the singular determinant wherein the value of the determinant of a matrix is zero, and if it is one, then this type of determinant is unimodular. However, for the last type of determinant, in order for a system to have a unique solution, the value of the determinant must be nonzero.\n",
        "\n",
        "The determinant of some matrix $A$ is denoted as $det(A)$ or $|A|$. So let's say $A$ is represented as:\n",
        "$$A = \\begin{bmatrix}a_{(0,0)}&a_{(0,1)}\\\\a_{(1,0)}&a_{(1,1)}\\end{bmatrix}$$\n",
        "We can compute for the determinant as:\n",
        "$$|A| = a_{(0,0)}*a_{(1,1)} - a_{(1,0)}*a_{(0,1)}$$\n",
        "So if we have $A$ as:\n",
        "$$A = \\begin{bmatrix}2&3\\\\7&9\\end{bmatrix}, |A| = -3$$\n",
        "\n",
        "For this experiment, we will utilize Python to solve for the determinants of different types of matrices, especially having a dimension greater than 2x2.\n"
      ],
      "metadata": {
        "id": "TzxTjB9km3-Q"
      }
    },
    {
      "cell_type": "code",
      "source": [
        "e = ([\n",
        "      [2,3],\n",
        "      [7,9]\n",
        "     \n",
        "])\n",
        "np.linalg.det(e)"
      ],
      "metadata": {
        "colab": {
          "base_uri": "https://localhost:8080/"
        },
        "id": "qSDIuo7JMMws",
        "outputId": "fb3c0bdb-dde7-4ce3-e46d-5d1fa069a586"
      },
      "execution_count": null,
      "outputs": [
        {
          "output_type": "execute_result",
          "data": {
            "text/plain": [
              "-3.0000000000000018"
            ]
          },
          "metadata": {},
          "execution_count": 31
        }
      ]
    },
    {
      "cell_type": "code",
      "source": [
        "d = ([\n",
        "      [0,10,1],\n",
        "      [2,-3,11],\n",
        "      [-34,-35,21]\n",
        "])\n",
        "np.linalg.det(d)"
      ],
      "metadata": {
        "colab": {
          "base_uri": "https://localhost:8080/"
        },
        "id": "oYt4BTVMGfAk",
        "outputId": "8abc7001-8766-4857-eebc-4310becab8a0"
      },
      "execution_count": null,
      "outputs": [
        {
          "output_type": "execute_result",
          "data": {
            "text/plain": [
              "-4332.000000000005"
            ]
          },
          "metadata": {},
          "execution_count": 32
        }
      ]
    },
    {
      "cell_type": "code",
      "source": [
        "RR = ([\n",
        "       [2,4,6,8,10],\n",
        "       [1,4,9,16,25],\n",
        "       [-3,5,-7,9,-11],\n",
        "       [21,12,0,-11,11],\n",
        "       [1,2,3,4,0]\n",
        "])\n",
        "np.linalg.det(RR)"
      ],
      "metadata": {
        "colab": {
          "base_uri": "https://localhost:8080/"
        },
        "id": "Al_TZL4Jnl9W",
        "outputId": "5c2cdde4-9876-4e69-c21e-61e0de404485"
      },
      "execution_count": null,
      "outputs": [
        {
          "output_type": "execute_result",
          "data": {
            "text/plain": [
              "28399.999999999993"
            ]
          },
          "metadata": {},
          "execution_count": 33
        }
      ]
    },
    {
      "cell_type": "markdown",
      "source": [
        "###Inverse"
      ],
      "metadata": {
        "id": "S5_U6wqlN_eg"
      }
    },
    {
      "cell_type": "markdown",
      "source": [
        "The inverse of a square matrix A, also known as reciprocal matrix, is represented as $A^{-1}$. It is one of the crucial tools in mathematics since it is used to find the solution of linear equations through the inversion method. Also, it is frequently used in various fields of science, such as in quantum mechanics and optics.\n",
        "Now to determine the inverse of a matrix we need to perform several steps. So let's say we have a matrix $M$:\n",
        "$$M = \\begin{bmatrix}-33&12\\\\6&66\\end{bmatrix}$$\n",
        "First, we need to get the determinant of $M$.\n",
        "$$|M| = (-33)(66)-(6)(12) = -2250$$\n",
        "Next, we need to reform the matrix into the inverse form:\n",
        "$$M^{-1} = \\frac{1}{|M|} \\begin{bmatrix} m_{(1,1)} & -m_{(0,1)} \\\\ -m_{(1,0)} & m_{(0,0)}\\end{bmatrix}$$\n",
        "So that will be:\n",
        "$$M^{-1} = \\frac{-1}{2250} \\begin{bmatrix} 66 & -12 \\\\ -6 & -33\\end{bmatrix} = \\begin{bmatrix} \\frac{-11}{375} & \\frac{2}{375} \\\\ \\frac{1}{375} & \\frac{13}{1125}\\end{bmatrix}$$\n",
        "For higher-dimension matrices you might need to use co-factors, minors, adjugates, and other reduction techinques. To solve this programmatially we can use `np.linalg.inv()`."
      ],
      "metadata": {
        "id": "gfxxWdDu7Rzn"
      }
    },
    {
      "cell_type": "code",
      "source": [
        "r = np.array([\n",
        "              [-33,12],\n",
        "              [6,66]\n",
        "])\n",
        "np.array(r@np.linalg.inv(r), dtype=int)"
      ],
      "metadata": {
        "colab": {
          "base_uri": "https://localhost:8080/"
        },
        "id": "8c_AYBRJOB44",
        "outputId": "30c2540e-9e0b-4e6c-ced5-d7fba985bc58"
      },
      "execution_count": null,
      "outputs": [
        {
          "output_type": "execute_result",
          "data": {
            "text/plain": [
              "array([[1, 0],\n",
              "       [0, 1]])"
            ]
          },
          "metadata": {},
          "execution_count": 34
        }
      ]
    },
    {
      "cell_type": "code",
      "source": [
        "x = ([\n",
        "      [10,20,12],\n",
        "      [42,-31,31],\n",
        "      [-14,-15,21]\n",
        "])\n",
        "y = np.linalg.inv(x)\n",
        "y"
      ],
      "metadata": {
        "colab": {
          "base_uri": "https://localhost:8080/"
        },
        "id": "rrC3SnmYOYZG",
        "outputId": "bfd7192e-99b4-448b-af91-4af0d2bb3595"
      },
      "execution_count": null,
      "outputs": [
        {
          "output_type": "execute_result",
          "data": {
            "text/plain": [
              "array([[ 0.00454235,  0.01465273, -0.02422585],\n",
              "       [ 0.03213832, -0.00923122, -0.00473772],\n",
              "       [ 0.02598418,  0.00317476,  0.0280844 ]])"
            ]
          },
          "metadata": {},
          "execution_count": 35
        }
      ]
    },
    {
      "cell_type": "code",
      "source": [
        "x @ y, "
      ],
      "metadata": {
        "colab": {
          "base_uri": "https://localhost:8080/"
        },
        "id": "pUQzuFNgPzEs",
        "outputId": "08c92227-fb42-4a8b-9399-a0748feb0c23"
      },
      "execution_count": null,
      "outputs": [
        {
          "output_type": "execute_result",
          "data": {
            "text/plain": [
              "(array([[ 1.00000000e+00, -1.56125113e-17, -5.55111512e-17],\n",
              "        [-8.32667268e-17,  1.00000000e+00, -1.24900090e-16],\n",
              "        [ 8.32667268e-17,  1.95156391e-17,  1.00000000e+00]]),)"
            ]
          },
          "metadata": {},
          "execution_count": 36
        }
      ]
    },
    {
      "cell_type": "code",
      "source": [
        "X1 = ([\n",
        "       [21,94,6,-8,0],\n",
        "       [13,-14,9,-6,2],\n",
        "       [-23,51,-2,1,-71],\n",
        "       [2,1,0,-1,1],\n",
        "       [-1,23,-33,42,10]\n",
        "])\n",
        "X2 = np.linalg.inv(X1)\n",
        "X2"
      ],
      "metadata": {
        "colab": {
          "base_uri": "https://localhost:8080/"
        },
        "id": "yU4pMbAcoRJO",
        "outputId": "839f1367-499d-4c84-9717-1da9e92e1097"
      },
      "execution_count": null,
      "outputs": [
        {
          "output_type": "execute_result",
          "data": {
            "text/plain": [
              "array([[-2.33648239e-03,  5.22520035e-02,  7.22639686e-03,\n",
              "         2.74692490e-01,  1.33877680e-02],\n",
              "       [ 1.05871447e-02, -1.03544169e-02, -1.23069641e-03,\n",
              "        -5.84265231e-02, -8.24408812e-04],\n",
              "       [ 2.72475659e-02,  7.10082901e-02, -1.11157131e-02,\n",
              "        -8.78138703e-01, -5.30935053e-03],\n",
              "       [ 1.37013589e-02,  6.87533282e-02, -3.82817585e-03,\n",
              "        -6.24047887e-01,  2.14740745e-02],\n",
              "       [ 7.78717893e-03, -2.53962619e-02, -1.70502732e-02,\n",
              "        -1.15006344e-01, -4.47705264e-03]])"
            ]
          },
          "metadata": {},
          "execution_count": 37
        }
      ]
    },
    {
      "cell_type": "code",
      "source": [
        "np.array(X1@X2, dtype=int)"
      ],
      "metadata": {
        "colab": {
          "base_uri": "https://localhost:8080/"
        },
        "id": "r42EK88EpFPl",
        "outputId": "9d96453b-4900-4b7c-8e67-448603a1c027"
      },
      "execution_count": null,
      "outputs": [
        {
          "output_type": "execute_result",
          "data": {
            "text/plain": [
              "array([[1, 0, 0, 0, 0],\n",
              "       [0, 1, 0, 0, 0],\n",
              "       [0, 0, 1, 0, 0],\n",
              "       [0, 0, 0, 0, 0],\n",
              "       [0, 0, 0, 0, 0]])"
            ]
          },
          "metadata": {},
          "execution_count": 38
        }
      ]
    },
    {
      "cell_type": "code",
      "source": [
        ""
      ],
      "metadata": {
        "id": "BzkCPpRNpSih"
      },
      "execution_count": null,
      "outputs": []
    }
  ]
}